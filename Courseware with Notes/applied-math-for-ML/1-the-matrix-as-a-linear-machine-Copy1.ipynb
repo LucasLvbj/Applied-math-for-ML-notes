{
 "cells": [
  {
   "cell_type": "markdown",
   "metadata": {},
   "source": [
    "# Viewing a matrix as a function\n",
    "\n",
    "### What's a function?\n",
    "\n",
    "- Roughly, we can think of a function as a black box that takes inputs and produces outputs\n",
    "- Functions can be applied to any input-ouput relationship \n",
    "    1. The equation $y = mx + b$ where the input is $x \\in \\mathbb{R}$ and the output is $y \\in \\mathbb{R}$\n",
    "    2. An FM radio: the input to the radio is a specific frequency and the output is the radio station at that frequency\n",
    "    3. Deciding to increase/decrease taxes to improve the economy. The input is passing legislation to increase/decreases taxes and the outputs are unemployment rate, GDP growth, etc.     \n",
    "    4. Pulling the lever in a slot machine. The input is pulling the lever, the outputis the set of symbols the slot machine produces\n",
    "\n",
    "\n",
    "\n",
    "<img src=\"black.png\" alt=\"Drawing\" style=\"width: 500px;\"/>\n",
    "\n",
    "- Comments about the example functions\n",
    "    1. The linear equation produces a unique output for each unique input. Is there an edge-case where this fails?\n",
    "    2. The FM radio will always give us the same radio station for a given input frequency (for example, 88.3 kHz). But the actual content of the output changes over time (the radio will play different songs during the day).\n",
    "    3. This example has a single input but many outputs. Furthermore, while increasing/descreaing taxes may have an impact on the economy, there are many other factors that also influence growth metrics. \n",
    "    4. This is an example where the output is completely indepenent of the input. "
   ]
  },
  {
   "cell_type": "markdown",
   "metadata": {},
   "source": [
    "# The matrix as a linear machine\n",
    "\n",
    "- In this lecture we will view the matrix as describing a very special type of function:\n",
    "    - $f(x) = Ax$ \n",
    "    - where \n",
    "        - $A \\in \\mathbb{R}^{m\\times n}$, \n",
    "        - $x \\in \\mathbb{R}^{n}$\n",
    "        - $y \\in \\mathbb{R}^{m}$ \n",
    "        \n",
    "- In other words, we are going to think about $A \\in \\mathbb{R}^{m\\times n}$ as a function or a \"machine\" that transforms an array of $n$ numbers $x \\in \\mathbb{R}^{n}$ to another array of $m$ numbers $y \\in \\mathbb{R}^{m}$ \n",
    "\n",
    "\n",
    "- We will represent $n$ numbers $x \\in \\mathbb{R}^{n}$ as a column vector (unless otherwise noted):\n",
    "\n",
    "$x = \\begin{bmatrix} x_{1}\\\\  x_{2}\\\\  \\vdots \\\\  x_{n} \\end{bmatrix}$\n",
    "\n",
    "- Similarly we will denote the matrix $A \\in \\mathbb{R}^{m\\times n}$ as:\n",
    "\n",
    "$A = \\begin{bmatrix}\n",
    "a_{1,1} & a_{1,2} & \\cdots & a_{1,n}\\\\ \n",
    "a_{2,1} & a_{2,2} &  \\cdots & \\vdots\\\\ \n",
    "\\vdots &  &  \\ddots & \\vdots\\\\ \n",
    "a_{m,1} &  a_{m,2}& \\cdots & a_{m,n}\n",
    "\\end{bmatrix}$\n",
    "\n",
    "# Matrix-vector multiplication: \"formal\" definition\n",
    "\n",
    "For matrix $A \\in \\mathbb{R}^{m\\times n}$ and a vector $x \\in \\mathbb{R}^{n}$\n",
    "\n",
    "$A = \\begin{bmatrix}\n",
    "a_{1,1} & a_{1,2} & \\cdots & a_{1,n}\\\\ \n",
    "a_{2,1} & a_{2,2} &  \\cdots & \\vdots\\\\ \n",
    "\\vdots &  &  \\ddots & \\vdots\\\\ \n",
    "a_{m,1} &  a_{m,2}& \\cdots & a_{m,n}\n",
    "\\end{bmatrix}$ , $x = \\begin{bmatrix} x_{1}\\\\  x_{2}\\\\  \\vdots \\\\  x_{n} \\end{bmatrix}$\n",
    "\n",
    "\n",
    "### $Ax = \\sum_{i}^{n}\\sum_{j}^{m}a_{j,i}x_{i}$\n",
    "\n",
    "Easy to see we have $O(mn)$ multiplications.\n",
    "\n",
    "# Matrix-vector multiplication viewed as a linear combination of $n$ columns\n",
    "For matrix $A \\in \\mathbb{R}^{m\\times n}$ and a vector $x \\in \\mathbb{R}^{n}$\n",
    "\n",
    "$A = \\begin{bmatrix}\n",
    "a_{1} & a_{2} & \\cdots & a_{n}\n",
    "\\end{bmatrix}$ , where $a_{i} \\in \\mathbb{R}^{m\\times1}$\n",
    "\n",
    "\n",
    "\n",
    "### $y = Ax = \\sum_{i}^{n}a_{i}x_{i}$\n",
    "\n",
    "In this view we can think of matrix multiplication as trying to explain $y$ with a the column vectors of $A$. Each element of $x$ tells us how much of each column of $A$ to mix to get a desired $y$. In this view we are trying to find an $x$ that can be used to express $y$ with the columns of $A$. \n",
    "\n",
    "For example, each column can correspond to a different piano note (so on a full keyboard we would have 88 columns). Each element in $x$ in this case would correspond to selecting which notes to play on the keyboard and at what volume to get a desired chord or overall sound.\n",
    "\n",
    "<img src=\"g_chord.png\" alt=\"Drawing\" style=\"width: 200px;\"/ align = left>\n",
    "\n"
   ]
  },
  {
   "cell_type": "markdown",
   "metadata": {},
   "source": [
    "# Matrix-vector multiplication viewed as a projections onto $m$ rows\n",
    "For matrix $A \\in \\mathbb{R}^{m\\times n}$ and a vector $x \\in \\mathbb{R}^{n}$\n",
    "\n",
    "$A = \\begin{bmatrix}\n",
    "a_{1}^{T}\\\\ \n",
    "a_{2}^{T}\\\\ \n",
    "\\vdots \\\\ \n",
    "a_{m}^{T}\n",
    "\\end{bmatrix}$ where $a_{i}^{T} \\in \\mathbb{R}^{1\\times n}$\n",
    "\n",
    "\n",
    "### $Ax = \\begin{bmatrix}\n",
    "a_{1}^{T}x\\\\ \n",
    "a_{2}^{T}x\\\\ \n",
    "\\vdots \\\\ \n",
    "a_{m}^{T}x\n",
    "\\end{bmatrix}$\n",
    "\n",
    "\n",
    "In this view we can think of matrix multiplication as \"untagling\" $x$ into the components of the rows of $A$. The inner product (also known as dot product) operation $a_{i}^{T}x$ tells us how much does $x$ match up with $a_{i}$. The \"larger\" $a_{i}x$ is, the more $x$ is \"expressed\" by $a_{i}$.\n",
    "\n",
    "\n",
    "# Key question about matrices as linear transformations we address in this lecture\n",
    "\n",
    "- What happens when:\n",
    "    - $m < n$? \n",
    "    - $m > n$?\n",
    "    - $m = n$?"
   ]
  },
  {
   "cell_type": "markdown",
   "metadata": {},
   "source": [
    "## Simple base case $m = n = 1$\n",
    "\n",
    "### $y = ax$ \n",
    "\n",
    "- $y , a, x \\in \\mathbb{R}$\n",
    "- In this case, the input and the output is the real number line. \n",
    "- We can think of this linear function as stretching or shrinking the real number line.\n",
    "- In this special case, $a$ is also called the slope.\n",
    "\n",
    "### Example: converting inches to centimeters\n",
    "- $y = \\frac{1}{2.54}x$ \n",
    "    - x is in inches and y is in centimeters. This function \"shrinks\" the measurements by a factor of 2.54\n",
    "    \n",
    "Even though this is elementary, lets illustrate it computationally to both get some intuition and get familiar with the libraries we will be using:"
   ]
  },
  {
   "cell_type": "code",
   "execution_count": 278,
   "metadata": {
    "collapsed": true
   },
   "outputs": [],
   "source": [
    "import numpy as np\n",
    "import matplotlib.pyplot as plt\n",
    "\n",
    "%matplotlib inline"
   ]
  },
  {
   "cell_type": "code",
   "execution_count": 279,
   "metadata": {},
   "outputs": [
    {
     "name": "stdout",
     "output_type": "stream",
     "text": [
      "[-0.00828463 -0.31963136 -0.53662936  0.31540267  0.42105072 -1.06560298\n",
      " -0.88623967 -0.47573349  0.68968231  0.56119218 -1.30554851 -1.11947526\n",
      "  0.73683739  1.57463407 -0.03107509 -0.68344663  1.0956297  -0.30957664\n",
      "  0.72575222  1.54907163  0.63007982  0.07349324  0.73227135 -0.64257539\n",
      " -0.17809318 -0.57395456 -0.20437532 -0.4864951  -0.18577532 -0.38053642\n",
      "  0.08897764  0.06367166  0.29634711  1.40277112 -1.54686257  1.29561858\n",
      " -0.23725045 -1.23234621 -0.17241977  0.09183837  1.06755846 -1.06163445\n",
      "  0.21734821  0.1178195  -1.68411089 -1.18575527  0.60010201  0.69556726\n",
      "  1.08771086  0.53382172  0.39521201  0.12286753  1.20910164 -0.8430661\n",
      " -0.14189358  0.38535414 -1.57749431  1.31094364 -0.79286501 -0.07174941\n",
      "  2.15667443 -0.82943725 -0.52937203  1.56170369 -1.08019383 -0.43205762\n",
      "  0.51608404  0.45539286  0.5936862   0.37050633  1.34537807  1.01594215\n",
      "  0.59527845 -0.68280162 -0.71355993 -1.90828954  0.68731235 -1.82300958\n",
      "  0.8791138   1.84636487 -1.0616544  -0.68448467 -0.47621448  0.83031043\n",
      " -0.86335252 -0.13054147 -0.52308763 -0.25127692  1.29127473 -0.96420485\n",
      "  0.07175977  0.2716063   0.85866717 -1.26407368  1.11487028  0.43477699\n",
      "  0.87427277  0.0716521  -1.63905163 -0.64730263]\n"
     ]
    }
   ],
   "source": [
    "N = 100                  # Number of measurements\n",
    "x = np.random.randn(N)   # a bunch of measurements in inches\n",
    "print(x)\n",
    "y = x/2.54               # the linear machine to transfrom from inches to centimeters"
   ]
  },
  {
   "cell_type": "code",
   "execution_count": 280,
   "metadata": {},
   "outputs": [
    {
     "data": {
      "text/plain": [
       "<matplotlib.text.Text at 0x26217d4ab70>"
      ]
     },
     "execution_count": 280,
     "metadata": {},
     "output_type": "execute_result"
    },
    {
     "data": {
      "image/png": "[encoded data removed]",
      "text/plain": [
       "<matplotlib.figure.Figure at 0x262178b9f98>"
      ]
     },
     "metadata": {},
     "output_type": "display_data"
    }
   ],
   "source": [
    "plt.figure(figsize=(16, 1))\n",
    "\n",
    "plt.subplot(1,2,1)\n",
    "plt.plot(x, np.zeros_like(x), '.')\n",
    "#print(x)\n",
    "#print(np.zeros_like(x))\n",
    "plt.title(\"The input to the linear machine\")\n",
    "plt.xlabel(\"Measurements made in inches\")\n",
    "plt.yticks([])\n",
    "plt.subplot(1,2,2)\n",
    "plt.plot(y, np.zeros_like(y), '.')\n",
    "plt.yticks([])\n",
    "plt.title(\"The output of the linear machine\")\n",
    "plt.xlabel(\"Measurements made in centimeter\")\n"
   ]
  },
  {
   "cell_type": "markdown",
   "metadata": {},
   "source": [
    "- So the input to this machine (on the left) is just samples from the real number line and the output is also just samples from the real number line. However, as indicated by the scale of the horizontal axis, notice that the output is a *shurnk* version of the input data.\n",
    "- Notice in this example for every input we have a unique output. We can also find for every output what the corresponding input is. In this case we say that the linear function is **one-to-one** or **1-to-1**.\n",
    "- Is this true for every $m=n$ linear function?\n",
    "    - No, not true if $a = 0$, then $y = 0$ for all $x \\in \\mathbb{R}$\n",
    "    \n",
    "- Put another way, for $a \\neq 0$, we have lost no \"information\" but for $a = 0$ we lose information."
   ]
  },
  {
   "cell_type": "markdown",
   "metadata": {},
   "source": [
    "## Special case: m > n = 1\n",
    "\n",
    "### $\\begin{bmatrix}y_{1} \\\\ \\vdots \\\\y_{m} \\end{bmatrix} = \\begin{bmatrix}a_{1}  \\\\ \\vdots \\\\ a_{m} \\end{bmatrix}x$\n",
    "\n",
    "for $x \\in \\mathbb{R}$. In this case the input is a single number (called a **scalar**) that we can think of as just being 1-D. The output is now *multi-dimensional* since we are consider the case $m > 1$. In other words, the input is just 1 number whereas the output is an array of $m$ numbers. We can also write this as\n",
    "\n",
    "### $\\begin{bmatrix}y_{1} \\\\ \\vdots \\\\y_{m} \\end{bmatrix} = \\begin{bmatrix}a_{1}x  \\\\ \\vdots \\\\ a_{m}x \\end{bmatrix}$\n",
    "\n",
    "You might be tempted to think that with this linear machine we have somehow went from a \"1-dimensional\" input to an \"m-dimensional\" output. **However**, as we will soon see, even though the output consists of $m$ numbers, the inherit dimension of the output is still just 1.\n",
    "\n",
    "### m = 2\n",
    "Lets try to get some intuition behind linear machines of this type by considering the case where $m = 2$. In this case we have\n",
    "\n",
    "$\\begin{bmatrix}y_{1} \\\\y_{2} \\end{bmatrix} = \\begin{bmatrix}a_{1} \\\\a_{2} \\end{bmatrix}x$\n",
    "\n",
    "To keep the notation a little less cluttered, lets use $a = a_{1}$ and $b = a_{2}$. In this case, we can write\n",
    "\n",
    "$\\left\\{\\begin{matrix}\n",
    "y_{1} = ax \\\\\n",
    "y_{2} = bx\n",
    "\\end{matrix}\\right.$\n",
    "\n",
    "For now, let's assume that $a \\neq 0$ and $b \\neq 0$. Then, solving for $x$, we find that\n",
    "\n",
    "### $y_{2} = \\frac{b}{a}y_{1}$\n",
    "\n",
    "In other words, $y_{2}$ and $y_{1}$ are linearly dependent on each other! Knowing $y_{1}$ will tell us what $y_{2}$ is. So our linear machine is not taking 1-dimensional number as input and creating 2 sets of totally different numbers. These 2 numbers are related to each other and are not free to be anything they want. \n",
    "\n",
    "\n",
    "Another way to think about this isthat this linear machine does not \"cover\" all the points in $y_{1}, y_{2}$. It's only able to map to points that are restricted to the constraint $y_{2} = \\frac{b}{a}y_{1}$. \n",
    "\n",
    "Lets illustrate with a concrete example\n",
    "\n",
    "### Example: converting from centimeters to inches *and* feet\n",
    "\n",
    "$\\qquad\\begin{bmatrix}y_{1} \\\\y_{2} \\end{bmatrix} = \\begin{bmatrix}a_{1} \\\\a_{2} \\end{bmatrix}x$\n",
    "\n",
    "- x is in inches and y is in centimeters. This function \"shrinks\" the measurements by a factor of 2.54\n",
    "    \n",
    "Even though this is super basic, lets illustrate it computationally to both get some intuition and get familiar with the libraries we will be using:\n",
    "\n"
   ]
  },
  {
   "cell_type": "code",
   "execution_count": 281,
   "metadata": {
    "collapsed": true
   },
   "outputs": [],
   "source": [
    "N = 1000                  # Number of measurements\n",
    "x = np.random.randn(N)   # a bunch of measurements in inches\n",
    "A = np.matrix([2.4, 12*2.14]).T\n",
    "#print(A)\n",
    "#print(x)\n",
    "y = (A*x).T\n",
    "#print(y)\n",
    "#print(y[:,0])\n",
    "#print(y[:,1])"
   ]
  },
  {
   "cell_type": "code",
   "execution_count": 282,
   "metadata": {},
   "outputs": [
    {
     "data": {
      "text/plain": [
       "[<matplotlib.lines.Line2D at 0x26217e498d0>]"
      ]
     },
     "execution_count": 282,
     "metadata": {},
     "output_type": "execute_result"
    },
    {
     "data": {
      "image/png": "[encoded data removed]",
      "text/plain": [
       "<matplotlib.figure.Figure at 0x262161a0978>"
      ]
     },
     "metadata": {},
     "output_type": "display_data"
    }
   ],
   "source": [
    "plt.plot(y[:,0], y[:,1], '.')"
   ]
  },
  {
   "cell_type": "markdown",
   "metadata": {},
   "source": [
    "## Exercise m = 1, n = 2\n",
    "\n",
    "$\\qquad y = \\begin{bmatrix}a_{1} & a_{2} \\end{bmatrix}x$\n"
   ]
  },
  {
   "cell_type": "markdown",
   "metadata": {},
   "source": [
    "## Special case: m = n = 2\n",
    "\n",
    "For this case, both the input and output are 2D vectors:\n",
    "\n",
    "$\\begin{bmatrix} y_{1}\\\\  y_{2} \\end{bmatrix} = \\begin{bmatrix}\n",
    "a & b \\\\ c & d  \\end{bmatrix} \\begin{bmatrix} x_{1}\\\\  x_{2} \\end{bmatrix}$\n",
    "\n",
    "Solving for $x_{2}$ (and assuming $b \\neq 0$), we can write:\n",
    "\n",
    "$y_{2} = \\frac{d}{b}y_{1} + x_{1}(c - \\frac{ad}{b})$\n",
    "\n",
    "Notice that in this case if we have $c - \\frac{ad}{b} = 0$, then $y_{2} = \\frac{d}{b}y_{1}$. In this case we have a situation very similar to the case $m = 2, n = 1$. That is, even though the output is 2D, $y_{1}$ and $y_{2}$ are dependent on each other."
   ]
  },
  {
   "cell_type": "markdown",
   "metadata": {},
   "source": [
    "## Not random input example"
   ]
  },
  {
   "cell_type": "code",
   "execution_count": 283,
   "metadata": {
    "collapsed": true
   },
   "outputs": [],
   "source": [
    "A = np.array([[10,2], \n",
    "              [10,10]])\n",
    "\n",
    "N = 100                 # Number of measurements\n",
    "#x = np.random.randn(N,2)   # a bunch of measurements in inches\n",
    "\"\"\"\n",
    "a = np.random.randn(N).T\n",
    "print(\"print a:\\n{}\".format(a))\n",
    "b = np.random.randn(N).T\n",
    "print(\"print b:\\n{}\".format(b))\n",
    "x1 = np.vstack((a, b))\n",
    "print(\"print x1:\\n{}\".format(x1))\n",
    "y1 = np.dot(A.T, x1).T\n",
    "print(\"print y1:\\n{}\".format(y1))\n",
    "\"\"\"\n",
    "x1 = np.vstack((np.random.randn(N).T, np.random.randn(N).T))\n",
    "#x1 = np.vstack((np.ones(N).T, np.random.randn(N).T))\n",
    "y1 = np.dot(A.T, x1).T\n",
    "x2 = np.vstack((np.random.randn(N).T, np.random.randn(N).T))\n",
    "#x2 = np.vstack((2*np.ones(N).T, np.random.randn(N).T))\n",
    "y2 = np.dot(A.T, x2).T"
   ]
  },
  {
   "cell_type": "code",
   "execution_count": 284,
   "metadata": {
    "scrolled": true
   },
   "outputs": [
    {
     "data": {
      "text/plain": [
       "(2, 100)"
      ]
     },
     "execution_count": 284,
     "metadata": {},
     "output_type": "execute_result"
    }
   ],
   "source": [
    "x1.shape"
   ]
  },
  {
   "cell_type": "code",
   "execution_count": 285,
   "metadata": {},
   "outputs": [
    {
     "data": {
      "text/plain": [
       "array([[ 1.05678867, -0.40653406,  0.29367325],\n",
       "       [ 0.43133544, -1.06871342, -0.5957607 ]])"
      ]
     },
     "execution_count": 285,
     "metadata": {},
     "output_type": "execute_result"
    }
   ],
   "source": [
    "x1[:,:3]"
   ]
  },
  {
   "cell_type": "code",
   "execution_count": 286,
   "metadata": {},
   "outputs": [
    {
     "data": {
      "text/plain": [
       "array([[ 0.44768472,  0.90777379,  0.64262175],\n",
       "       [ 0.0121027 ,  0.69651373, -0.13627182]])"
      ]
     },
     "execution_count": 286,
     "metadata": {},
     "output_type": "execute_result"
    }
   ],
   "source": [
    "x2[:,:3]"
   ]
  },
  {
   "cell_type": "code",
   "execution_count": 287,
   "metadata": {},
   "outputs": [
    {
     "data": {
      "text/plain": [
       "<matplotlib.text.Text at 0x26217f0b978>"
      ]
     },
     "execution_count": 287,
     "metadata": {},
     "output_type": "execute_result"
    },
    {
     "data": {
      "image/png": "[encoded data removed]",
      "text/plain": [
       "<matplotlib.figure.Figure at 0x26217dd5a90>"
      ]
     },
     "metadata": {},
     "output_type": "display_data"
    }
   ],
   "source": [
    "plt.figure(figsize=(16, 4))\n",
    "plt.subplot(1,2,1)\n",
    "plt.plot(x1[0,:], x1[1,:], '.')\n",
    "plt.plot(x2[0,:], x2[1,:], '.')\n",
    "plt.title(\"The input to the linear machine\")\n",
    "plt.xlabel(\"$x_{1}$\")\n",
    "plt.xlabel(\"$x_{2}$\")\n",
    "\n",
    "\n",
    "plt.subplot(1,2,2)\n",
    "plt.plot(y1[:,0], y1[:,1], '.')\n",
    "plt.plot(y2[:,0], y2[:,1], 'r.')\n",
    "plt.title(\"The output of the linear machine\")\n",
    "plt.xlabel(\"$y_{1}$\")\n",
    "plt.xlabel(\"$y_{2}$\")"
   ]
  },
  {
   "cell_type": "markdown",
   "metadata": {},
   "source": [
    "To formalize and better understand what happens in the case $m,n > 2$ we need a vocaubulary and set of definitions to be able to desecribe what happens in high dimensional spaces. \n",
    "- sets\n",
    "- vector spaces, subspaces\n",
    "- linear independent set of vectors\n",
    "- basis set\n",
    "- norms and inner products\n",
    " \n",
    "\n",
    "## Sets \n",
    "\n",
    "**Defintion of Set $S$:** a collection of items that we refer to as the set $S$    \n",
    "  - **Important**: We assume that set also includes the emtpy set \n",
    "  \n",
    "**Examples:**\n",
    " - $S_{1} = \\mathbb{R}$ (read as: the set of all real numbbers)\n",
    " - $S_{2} = \\{x | x \\in \\mathbb{R}, x > 0$\\} (read as: the set of reals that are positive)\n",
    " - $S_{3} = \\{(x_{1}, \\ldots, x_{n}) | x_{1}, \\ldots, x_{n} \\in \\mathbb{R}, \\Sigma_{i=1}^{n}x_{i}^{2}< 1$\\}\n",
    " - $S_{4}$ = \\{Heads, Tails\\} (read as: the set of either heads or tails\n",
    " \n",
    "Notice that each of these sets can have different properties. In what follows, we try to narrow the range of sets to be of a very specific type: the vector space.\n",
    " \n",
    "\n",
    "## Vector space\n",
    "\n",
    "\n",
    "\n",
    "**Defintion relevant for matrices and linear algebra:**\n",
    "\n",
    "\n",
    "A vector space over $\\mathbb{R}^{n}$ is a set $V$ together with two operations that satisfy the eight axioms listed below.\n",
    "\n",
    "\n",
    "- **Addition** $+ : V \\times V \\rightarrow V$, takes any two vectors $v, w$ and assigns them to a third vector which is commonly written as $z = v + w$ with $z \\in V$ \n",
    "\n",
    "- **Scalar multiplication:** $\\cdot : \\mathbb{R} \\times V \\rightarrow V$, takes any scalar $c \\in \\mathbb{R}$ and any vector $v \\in V$ and gives another vector $cv \\in V$\n",
    "\n",
    "\n",
    "\n",
    "To qualify as a vector space, the set $V$ and the operations of addition and multiplication must adhere to a number of requirements called axioms. In the list below, let $\\mathbf{u}$, $\\mathbf{v}$ and $\\mathbf{w}$ be arbitrary vectors in $V$, and $a$ and $b$ scalars in $\\mathbb{R}$:\n",
    "\n",
    "\n",
    "\n",
    "- **Associativity of addition**: $\\mathbf{u + (v + w) = (u + v) + w}$\n",
    "- **Commutativity of addition**: $\\mathbf{u + v = v + u}$\n",
    "- **Identity element of addition**: There exists an element $\\mathbf{0} \\in V$, such that $\\mathbf{v + 0 = v}$ for all $\\mathbf{v} \\in V$\n",
    "- **Inverse elements of addition**: For every $\\mathbf{v} \\in V$, there exists an element $-\\mathbf{v} \\in V$, called the *additive inverse* of $\\mathbf{v}$, such that $\\mathbf{v + \\left(-v\\right) = 0}$\n",
    "- **Compatibility of scalar multiplication with field multiplication** $a\\left(b\\mathbf{v}\\right) = \\left(ab\\right)\\mathbf{v}$\n",
    "- **Identity element of scalar multiplication**: $\\mathbf{Iv = v}$, where $\\mathbf{I}$ denotes the multiplicative identity in $F$.\n",
    "- **Distributivity of scalar multiplication with respect to vector addition**: $a\\left(\\mathbf{u + v}\\right) = a\\mathbf{u} + a\\mathbf{v}$\n",
    "- **Distributivity of scalar multiplication with respect to scalar addition**: $\\left(a + b\\right)\\mathbf{v} = a\\mathbf{v} + b\\mathbf{v}$\n",
    "\n",
    "\n",
    "\n",
    "\n",
    "## Examples of failed vector spaces\n",
    " \n",
    "**Example 1:** a convex subgraph  \n",
    "\n",
    "<img src=\"convex_subgraph.png\" alt=\"Drawing\" style=\"width: 200px;\"/, align = \"left\">  \n",
    "\n"
   ]
  },
  {
   "cell_type": "markdown",
   "metadata": {},
   "source": [
    "**Example 2:** a unit disk  \n",
    "\n",
    "\n",
    "<img src=\"unit_disc.png\" alt=\"Drawing\" style=\"width: 200px;\"/, align = \"left\">"
   ]
  },
  {
   "cell_type": "markdown",
   "metadata": {},
   "source": [
    "## Examples of actual vector spaces\n",
    "\n",
    "- $\\mathbb{R}$\n",
    "- $\\mathbb{R}^{n}$\n",
    "- $\\mathbb{R}^{m\\times n}$"
   ]
  },
  {
   "cell_type": "markdown",
   "metadata": {},
   "source": [
    "# Subspace\n",
    "Let $V$ be a vector space over $\\mathbb{R}^{n}$, and let $W$ be a subset of $V$. Then $W$ is a **subspace** if:\n",
    "\n",
    " - The zero vector $\\mathbf{0}$, is in $W$.\n",
    " - If $\\mathbf{u}$ and $\\mathbf{v}$ are elements of $W$, then the sum $\\mathbf{u} + \\mathbf{v}$ is an element of $W$.\n",
    " - If $\\mathbf{u}$ is an element of $W$ and $c \\in \\mathbb{R}$, then the scalar product $c\\mathbf{u}$ is an element of $W$.\n",
    "\n",
    "## Examples of legitimate subspaces:\n",
    "\n",
    "- hyperplanes crossing the origin \n",
    "\n",
    "<img src=\"line_origin.png\" alt=\"Drawing\" style=\"width: 200px;\"/, align = \"left\">\n"
   ]
  },
  {
   "cell_type": "markdown",
   "metadata": {},
   "source": [
    "## Examples of failed subspaces:\n",
    "\n",
    "<img src=\"line_intercept.png\" alt=\"Drawing\" style=\"width: 200px;\"/, align = \"left\">\n"
   ]
  },
  {
   "cell_type": "markdown",
   "metadata": {},
   "source": [
    "<img src=\"quad.png\" alt=\"Drawing\" style=\"width: 200px;\"/, align = \"left\">"
   ]
  },
  {
   "cell_type": "markdown",
   "metadata": {},
   "source": [
    "## Example subspace: Range Space of a matrix $A$\n",
    "\n",
    "**Definition**: For a matrix $A \\in \\mathbb{R}^{m\\times n}$, the *Range Space* of A is defined as: \n",
    "\n",
    "$\\qquad\\qquad\\qquad\\qquad\\qquad R(A) = \\{y \\in \\mathbb{R}^{m} : y = Ax \\text{ for } x \\in \\mathbb{R}^{n}\\}$\n",
    "\n",
    "Equivalently, we can express the Range Space as: \n",
    "\n",
    "$\\qquad\\qquad\\qquad\\qquad\\qquad R(A) = \\{Ax : x \\in \\mathbb{R}^{n}\\}$\n",
    "\n",
    "- Someimtes the Range Space of $A$ is also called the *image* of $A$\n",
    "- Viewing matrix-vector multiplication as a linear combination of the columns of A is useful for understanding range space\n",
    "\n",
    "### Example: \n",
    "\n",
    "$\\qquad\\begin{bmatrix}y_{1} \\\\y_{2} \\end{bmatrix} = \\begin{bmatrix}a_{1} \\\\a_{2} \\end{bmatrix}x$\n",
    "\n",
    "- What is the range space of this matrix?\n",
    "- Is a range space a subspace?\n",
    "\n",
    "\n",
    "## Example subspace: Null space of a matrix $A$\n",
    "\n",
    "**Definition**: For a matrix $A \\in \\mathbb{R}^{m\\times n}$, the *Range Space* of A is defined as: \n",
    "\n",
    "$\\qquad\\qquad\\qquad\\qquad\\qquad R(A) = \\{x \\in \\mathbb{R}^{n} : Ax = 0\\}$\n",
    "\n",
    "Equivalently, we can express the Range Space as: \n",
    "\n",
    "$\\qquad\\qquad\\qquad\\qquad\\qquad R(A) = \\{Ax : x \\in \\mathbb{R}^{n}\\}$\n",
    "\n",
    "- Someimtes the Null Space of $A$ is also called the *kernel* of $A$\n",
    "- Viewing matrix-vector multiplication as a projections onto the rows of A is useful for understanding range space\n",
    "\n",
    "### Example: \n",
    "\n",
    "$\\qquad y = \\begin{bmatrix}a_{1} & a_{2} \\end{bmatrix}x$\n",
    "\n",
    "- What is the null space of this matrix?\n",
    "- Is the null space a subspace?"
   ]
  },
  {
   "cell_type": "markdown",
   "metadata": {},
   "source": [
    "## Linear independent set\n",
    "\n",
    "**Definition:**\n",
    "The vectors in a set $T=\\{v_{1},v_{2},\\ldots,v_{k}\\}$ are *linearly independent* if the equation\n",
    "\n",
    "$\\qquad\\qquad\\qquad\\qquad\\qquad\\qquad\\qquad\\qquad\\qquad a_1v_1 + a_2v_2 + \\cdots +a_kv_k = 0$ \n",
    "\n",
    "$\\qquad\\qquad$can only be satisfied by ${\\displaystyle a_{i}=0}$ for $i = 1,\\ldots,n$. \n",
    "\n",
    "- This implies that no vector in the set can be represented as a linear combination of the remaining vectors in the set. \n",
    "- A set of vectors is linearly independent if the only representations of $0$ as a linear combination of its vectors is the trivial representation in which all the scalars $a_i$ are zero.\n",
    "- If not all of the scalars are zero, then at least one is non-zero, say $a_1$, in which case this equation can be written in the form\n",
    "\n",
    "$v_1 = \\frac{-a_2}{a_1}v_2 + \\cdots + \\frac{-a_k}{a_1}v_k.$\n",
    "- Thus, $v_1$ is shown to be a linear combination of the remaining vectors.\n",
    "\n",
    "## Example of linear dependence and independence \n",
    "When are these two vectors independent? Dependent?\n",
    "\n",
    "<img src=\"independent_vectors.png\" alt=\"Drawing\" style=\"width: 200px;\"/, align = \"left\">\n",
    "\n"
   ]
  },
  {
   "cell_type": "markdown",
   "metadata": {},
   "source": [
    "To show that two vectors $x_{1}$ and $x_{2}$ are linearly independent, we want to know if there exists $\\alpha_{1} \\neq 0$ and $\\alpha_{2} \\neq 0$ so that:\n",
    "\n",
    "$\\alpha_{1}x_{1} + \\alpha_{2}x_{2} \\stackrel{?}{=} 0$\n",
    "\n",
    "$\\frac{\\alpha_{1}}{\\alpha_{2}}x_{1} + x_{2} \\stackrel{?}{=} 0$"
   ]
  },
  {
   "cell_type": "markdown",
   "metadata": {},
   "source": [
    "# Basis set\n",
    "\n",
    "**Definition:**\n",
    "\n",
    "\n",
    "A **basis** $B$ of a vector space $V$ over $\\mathbb{R}^{n}$ is a linearly independent subset of $V$ that spans $V$.\n",
    "\n",
    "That is, suppose that $B = \\{v_1,\\ldots,v_n\\}$ is a finite subset of a vector space $V$. Then $B$ is a basis if it satisfies the following conditions:\n",
    "\n",
    "\n",
    "- **linear independence property**: for all $a_1,\\ldots,a_n \\in \\mathbb{R}^{n}$, if ${a_1}{v_1} + \\ldots + {a_n}{v_n} = 0$, then necessarily $a_1 = \\ldots = a_n = 0$\n",
    "- **spanning property**: for every (vector) $x \\in V$ it is possible to choose $a_1,\\ldots,a_n \\in \\mathbb{R}^{n}$ such that $x = {a_1}{v_1} + \\ldots + {a_n}{v_n}$.\n",
    "\n",
    "The numbers $a_i$ are called the coordinates of the vector $x$ with respect to the basis $B$, and by the first property they are uniquely determined.\n",
    "\n"
   ]
  },
  {
   "cell_type": "markdown",
   "metadata": {},
   "source": [
    "<img src=\"three_vectors.gif\" alt=\"Drawing\" style=\"width: 200px;\"/, align = \"left\">"
   ]
  },
  {
   "cell_type": "markdown",
   "metadata": {},
   "source": [
    "# Linear independence and basis example\n",
    "\n",
    "$\\alpha_{1}x_{1} + \\alpha_{2}x_{2} + \\alpha_{3}x_{3} \\stackrel{?}{=} 0$\n",
    "\n",
    "$\\hat{\\alpha_{2}}\\hat{x_{2}} := \\alpha_{2}x_{2} + \\alpha_{3}x_{3}$\n",
    "\n",
    "$\\alpha_{1}x_{1} + \\hat{\\alpha_{2}}\\hat{x_{2}} \\stackrel{?}{=} 0$"
   ]
  },
  {
   "cell_type": "markdown",
   "metadata": {},
   "source": [
    "## The norm\n",
    "\n",
    "**Definition**: a way to measure the \"size\" or \"magnitude\" of a vector.\n",
    "\n",
    "Given a vector space $V$ over $\\mathbb{R}^{n}$, a **norm** on $V$ is a *function* $p: V\\rightarrow \\mathbf{R}$ with the following properties:\n",
    "\n",
    "For all, $a \\in \\mathbb{R}$ and all $\\mathbf{u}, \\mathbf{v} \\in V$,\n",
    "\n",
    "\n",
    "- $p\\left(a\\mathbf{v}\\right) = \\left|a\\right|\\, p\\left(\\mathbf{v}\\right)$ \n",
    "- $p\\left(\\mathbf{u} + \\mathbf{v}\\right) \\leq p\\left(\\mathbf{u}\\right) +p\\left(\\mathbf{v}\\right)$ \n",
    "- $p\\left(\\mathbf{v}\\right) \\geq 0$ \n",
    "- If $p\\left(\\mathbf{v}\\right) = 0$ then $\\mathbf{v = 0}$ is the zero vector \n",
    "\n",
    "**Example:** the LP norm\n",
    "\n",
    "$\\displaystyle {\\| x \\|}_p = {\\Bigl(\\sum^{n}_{i=1} {\\bigl|x_i\\bigr|}^p \\Bigr)}^\\frac{1}{p}\\qquad x \\in \\mathbb{R}^{n}, p \\geq 1$\n",
    "\n",
    "<img src=\"vector_norms.png\" alt=\"Drawing\" style=\"width: 140px;\"/, align = \"left\">"
   ]
  },
  {
   "cell_type": "markdown",
   "metadata": {},
   "source": [
    "## Example: distances in high dimensions"
   ]
  },
  {
   "cell_type": "code",
   "execution_count": 288,
   "metadata": {
    "collapsed": true
   },
   "outputs": [],
   "source": [
    "from scipy.spatial.distance import pdist, squareform\n",
    "import math\n",
    "\n",
    "def farthest_to_nearest_neighbors(dim, N = 1000):\n",
    "    x = np.random.randn(dim,N)\n",
    "    #x, _ = make_blobs(n_samples=N, centers=2, n_features=dim, random_state=0, cluster_std=10)\n",
    "    #x = x.T\n",
    "    #d = pdist(x.T, 'euclidean') # this will calculate distance between any two points. \n",
    "    d = pdist(x.T, 'chebyshev') # this will calculate distance between any two points. \n",
    "    \n",
    "    \"\"\"\n",
    "    print(x.T)\n",
    "    print(d)\n",
    "    print(\"\\n# of calculated distances:{}\".format(len(d))) # it is a Combination: C(N,2) = n!/((n-2)!*2!)（m≤n)\n",
    "    \n",
    "    # For dim=3 only.\n",
    "    print(\"distance example:{}\".format(math.sqrt((x.T[0,0]-x.T[1,0])**2 + (x.T[0,1]-x.T[1,1])**2 + (x.T[0,2]-x.T[1,2])**2)))\n",
    "    \"\"\"\n",
    "    \n",
    "    r = np.max(d)/np.min(d)\n",
    "    return r"
   ]
  },
  {
   "cell_type": "code",
   "execution_count": 289,
   "metadata": {},
   "outputs": [
    {
     "data": {
      "text/plain": [
       "413.20290717750544"
      ]
     },
     "execution_count": 289,
     "metadata": {},
     "output_type": "execute_result"
    }
   ],
   "source": [
    "farthest_to_nearest_neighbors(3)"
   ]
  },
  {
   "cell_type": "code",
   "execution_count": 290,
   "metadata": {},
   "outputs": [
    {
     "name": "stdout",
     "output_type": "stream",
     "text": [
      "198\n",
      "Wall time: 14.4 s\n"
     ]
    }
   ],
   "source": [
    "%%time\n",
    "r_s = []\n",
    "for input_dim in range(2,200):\n",
    "    r_s.append(farthest_to_nearest_neighbors(input_dim))\n",
    "print(len(r_s))"
   ]
  },
  {
   "cell_type": "code",
   "execution_count": 291,
   "metadata": {},
   "outputs": [
    {
     "name": "stdout",
     "output_type": "stream",
     "text": [
      "[8427.9226722000258, 367.57157629700276, 85.017363458694263]\n"
     ]
    },
    {
     "data": {
      "text/plain": [
       "[]"
      ]
     },
     "execution_count": 291,
     "metadata": {},
     "output_type": "execute_result"
    },
    {
     "data": {
      "image/png": "[encoded data removed]",
      "text/plain": [
       "<matplotlib.figure.Figure at 0x26218128fd0>"
      ]
     },
     "metadata": {},
     "output_type": "display_data"
    }
   ],
   "source": [
    "print(r_s[0:3])\n",
    "plt.plot(range(2,200), r_s)\n",
    "plt.semilogy()"
   ]
  },
  {
   "cell_type": "markdown",
   "metadata": {},
   "source": [
    "## Inner product space\n",
    "\n",
    "**Definition:**\n",
    "An inner product space is a vector space $V$ over $\\mathbb{R}^{n}$ together with an *inner product*, i.e., with a map or function\n",
    "\n",
    "\n",
    "$\\langle \\cdot , \\cdot \\rangle : V \\times V \\rightarrow \\mathbb{R}$\n",
    "\n",
    "That is, when we take two elements from $V$, the inner product is a function that maps to $\\mathbb{R}$ and satisfies the following three axioms for all vectors $x,y,z \\in V$ and all scalars $a \\in \\mathbb{R}$:\n",
    "\n",
    "\n",
    "- Conjugate symmetry: $\\langle x,y \\rangle = \\overline{\\langle y,x \\rangle}$\n",
    "- Linearity in the first argument: $\\langle ax,y \\rangle = a\\langle x,y \\rangle\\\\\n",
    "\\langle x+y,z \\rangle = \\langle x,z \\rangle + \\langle y,z \\rangle$\n",
    "- Positive-definiteness: $\\langle x,x \\rangle \\geq 0\\\\\n",
    "\\langle x,x \\rangle = 0 \\Leftrightarrow x = \\mathbf{0}.$"
   ]
  },
  {
   "cell_type": "markdown",
   "metadata": {
    "collapsed": true
   },
   "source": [
    "## Norms and inner products\n",
    "\n",
    "The inner product and norm can be related as\n",
    "$\\| x \\| = \\sqrt{\\langle x,x \\rangle}$\n",
    "\n",
    "\n",
    "- **Cauchy-Schwarz inequality:** $\\big|\\langle x,y \\rangle \\big| \\leq \\big\\|x\\big\\| \\cdot \\big\\|y\\big\\|$ for $x, y, \\in V$ with equality if and only if $x$ and $y$ are linearly independent. \n",
    "\n",
    "- **Angle:** $\\mathrm{angle}\\left(x,y\\right) = \\arccos \\frac{\\langle x,y \\rangle}{\\|x\\| \\cdot \\|y\\|}.$ We assume the value of the angle is chosen to be in the interval [$0,\\pi$]. This is in analogy to the situation in two-dimensional Euclidean space.\n",
    "\n",
    "- **Orthogonality:** We will say that non-zero vectors $x$ and $y$ of $V$ are orthogonal if and only if their inner product is zero.\n",
    "- **Homogeneity:** $\\|c \\cdot x\\| = |c| \\cdot \\|x\\|$ for $x \\in V$ and $c \\in \\mathbb{R}$ \n",
    "\n",
    "\n",
    "\n",
    "- **Triangle inequality:** $\\|x+y\\| \\leq \\|x\\| + \\|y\\|.$ for $x,y$ elements of $v$\n",
    "\n",
    "\n"
   ]
  },
  {
   "cell_type": "markdown",
   "metadata": {},
   "source": [
    "## \"Deep\" linear machine"
   ]
  },
  {
   "cell_type": "code",
   "execution_count": 292,
   "metadata": {
    "scrolled": false
   },
   "outputs": [
    {
     "name": "stdout",
     "output_type": "stream",
     "text": [
      "[[ 1.74945474 -0.286073   -0.48456513 -2.65331856 -0.00828463]\n",
      " [ 0.87427277  0.0716521  -1.63905163 -0.64730263  0.81776957]\n",
      " [ 1.5980499   1.70372182 -1.58951989 -0.37724652  1.16250551]]\n",
      "[[ 0.12963001  0.05713914  0.27879611]\n",
      " [-0.25407814 -1.49961583  0.86701262]\n",
      " [-0.90468678  0.22328999  0.57444113]]\n",
      "[[ 1.18222523 -0.21790341 -0.30543906]\n",
      " [-0.23331192 -1.84858519 -0.75481636]]\n"
     ]
    },
    {
     "data": {
      "text/plain": [
       "<matplotlib.text.Text at 0x26219372a58>"
      ]
     },
     "execution_count": 292,
     "metadata": {},
     "output_type": "execute_result"
    },
    {
     "data": {
      "image/png": "[encoded data removed]",
      "text/plain": [
       "<matplotlib.figure.Figure at 0x26219217630>"
      ]
     },
     "metadata": {},
     "output_type": "display_data"
    }
   ],
   "source": [
    "np.random.seed(11) # this will make sure the randn() generate the same random number in different run\n",
    "\n",
    "def linear_machine(input_dim, output_dim = 2, N = 100, depth = 2, input_data = None): \n",
    "    x = np.random.randn(input_dim,N)\n",
    "    B = np.random.randn(input_dim,input_dim)\n",
    "\n",
    "    A = np.random.randn(output_dim,input_dim)\n",
    "\n",
    "    if depth > 0:\n",
    "        z = np.dot(B,x)\n",
    "        for i in range(depth-1):\n",
    "            z = np.dot(B,z)\n",
    "        y = np.dot(A,z)\n",
    "    else:\n",
    "        y = np.dot(A,x)\n",
    "\n",
    "    print(x[:,:5])\n",
    "    print(B)\n",
    "    print(A)\n",
    "        \n",
    "    return y.T\n",
    "\n",
    "\n",
    "plt.figure(figsize=(6, 6))\n",
    "\n",
    "num_layers = 20\n",
    "y = linear_machine(input_dim = 3, depth = num_layers)\n",
    "plt.plot(y[:,0], y[:,1], '.')\n",
    "plt.title(\"The output of the linear machine for depth \" + str(num_layers))\n"
   ]
  },
  {
   "cell_type": "markdown",
   "metadata": {
    "collapsed": true
   },
   "source": [
    "##### Singular Value Decomposition\n",
    "\n",
    "**Theorem**: Any matrix $M \\in \\mathbb{R}^{m\\times n}$ can be written as:\n",
    "\n",
    "$\\qquad\\qquad\\qquad\\qquad M = U \\Sigma V^{T}$ \n",
    "\n",
    "where $U$ and $V$ are *orthnonormal matrices* and $\\Sigma$ is a *diagonal* matrix.\n",
    "\n",
    "\n",
    "\n",
    "We can think of a matrix $M$ as a linear machine that transforms data from $x \\in \\mathbb{R}^{n}$ to $y \\in \\mathbb{R}^{m}$ as a process of going through three transformations:\n",
    "\n",
    "1. $x$ is projected (or \"expressed\") by the basis set contained in $V$\n",
    "2. The projection is the scaled by the elemnets in the diagnoal matrix $Sigma$\n",
    "3. \n",
    "\n",
    "<img src=\"svd.png\" alt=\"Drawing\" style=\"width: 400px;\"/ align=\"left\">"
   ]
  },
  {
   "cell_type": "code",
   "execution_count": 365,
   "metadata": {},
   "outputs": [
    {
     "data": {
      "text/plain": [
       "array([[-1.13383833,  0.38431919],\n",
       "       [ 1.49655378, -0.3553823 ]])"
      ]
     },
     "execution_count": 365,
     "metadata": {},
     "output_type": "execute_result"
    }
   ],
   "source": [
    "np.random.seed(111)\n",
    "A = np.random.randn(2,2)\n",
    "A"
   ]
  },
  {
   "cell_type": "code",
   "execution_count": 366,
   "metadata": {},
   "outputs": [
    {
     "data": {
      "text/plain": [
       "array([ 1.94716169,  0.08844066])"
      ]
     },
     "execution_count": 366,
     "metadata": {},
     "output_type": "execute_result"
    }
   ],
   "source": [
    "U, s, V = np.linalg.svd(A)\n",
    "s"
   ]
  },
  {
   "cell_type": "code",
   "execution_count": 367,
   "metadata": {},
   "outputs": [
    {
     "data": {
      "text/plain": [
       "array([[-0.61379775,  0.78946332],\n",
       "       [ 0.78946332,  0.61379775]])"
      ]
     },
     "execution_count": 367,
     "metadata": {},
     "output_type": "execute_result"
    }
   ],
   "source": [
    "U"
   ]
  },
  {
   "cell_type": "code",
   "execution_count": 368,
   "metadata": {},
   "outputs": [
    {
     "data": {
      "text/plain": [
       "array([[  1.00000000e+00,   6.91072737e-17],\n",
       "       [  6.91072737e-17,   1.00000000e+00]])"
      ]
     },
     "execution_count": 368,
     "metadata": {},
     "output_type": "execute_result"
    }
   ],
   "source": [
    "np.dot(U, U.T)"
   ]
  },
  {
   "cell_type": "code",
   "execution_count": 369,
   "metadata": {},
   "outputs": [
    {
     "data": {
      "text/plain": [
       "array([[ 0.96418378, -0.26523506],\n",
       "       [ 0.26523506,  0.96418378]])"
      ]
     },
     "execution_count": 369,
     "metadata": {},
     "output_type": "execute_result"
    }
   ],
   "source": [
    "V"
   ]
  },
  {
   "cell_type": "code",
   "execution_count": 372,
   "metadata": {},
   "outputs": [
    {
     "data": {
      "text/plain": [
       "array([[ 1.94716169,  0.        ],\n",
       "       [ 0.        ,  0.08844066]])"
      ]
     },
     "execution_count": 372,
     "metadata": {},
     "output_type": "execute_result"
    }
   ],
   "source": [
    "np.dot(U, np.dot(np.diag(s),V))\n",
    "np.diag(s)"
   ]
  },
  {
   "cell_type": "code",
   "execution_count": 343,
   "metadata": {},
   "outputs": [
    {
     "data": {
      "text/plain": [
       "(-1, 1)"
      ]
     },
     "execution_count": 343,
     "metadata": {},
     "output_type": "execute_result"
    },
    {
     "data": {
      "image/png": "[encoded data removed]",
      "text/plain": [
       "<matplotlib.figure.Figure at 0x2621946e240>"
      ]
     },
     "metadata": {},
     "output_type": "display_data"
    }
   ],
   "source": [
    "width = 4\n",
    "height = 4\n",
    "plt.figure(figsize=(width, height))\n",
    "plt.plot([0, U[0,0]], [0,U[0,1]])\n",
    "plt.plot([0,U[1,0]], [0,U[1,1]])\n",
    "plt.xlim([-1,1])\n",
    "plt.ylim([-1,1])  "
   ]
  },
  {
   "cell_type": "code",
   "execution_count": 327,
   "metadata": {},
   "outputs": [
    {
     "name": "stdout",
     "output_type": "stream",
     "text": [
      "-0.613797746104 0.789463315726\n",
      "0.789463315726 0.613797746104\n"
     ]
    },
    {
     "data": {
      "text/plain": [
       "(-1, 1)"
      ]
     },
     "execution_count": 327,
     "metadata": {},
     "output_type": "execute_result"
    },
    {
     "data": {
      "image/png": "[encoded data removed]",
      "text/plain": [
       "<matplotlib.figure.Figure at 0x26219321f28>"
      ]
     },
     "metadata": {},
     "output_type": "display_data"
    }
   ],
   "source": [
    "width = 4\n",
    "height = 4\n",
    "plt.figure(figsize=(width, height))\n",
    "print(U[0,0],U[0,1])\n",
    "print(U[1,0],U[1,1])\n",
    "plt.plot([0, U[0,0]], [0,U[0,1]])\n",
    "plt.plot([0, U[1,0]], [0,U[1,1]])\n",
    "plt.xlim([-1,1])\n",
    "plt.ylim([-1,1])"
   ]
  },
  {
   "cell_type": "code",
   "execution_count": 97,
   "metadata": {
    "collapsed": true
   },
   "outputs": [],
   "source": [
    "## Real world data"
   ]
  },
  {
   "cell_type": "code",
   "execution_count": 373,
   "metadata": {
    "collapsed": true
   },
   "outputs": [],
   "source": [
    "import pandas as pd"
   ]
  },
  {
   "cell_type": "code",
   "execution_count": 374,
   "metadata": {},
   "outputs": [],
   "source": [
    "df = pd.read_csv(r\"C:\\Users\\blv\\PycharmProjects\\applied-math-for-ML\\trian-har.csv\")"
   ]
  },
  {
   "cell_type": "code",
   "execution_count": 375,
   "metadata": {},
   "outputs": [
    {
     "data": {
      "text/html": [
       "<div>\n",
       "<style>\n",
       "    .dataframe thead tr:only-child th {\n",
       "        text-align: right;\n",
       "    }\n",
       "\n",
       "    .dataframe thead th {\n",
       "        text-align: left;\n",
       "    }\n",
       "\n",
       "    .dataframe tbody tr th {\n",
       "        vertical-align: top;\n",
       "    }\n",
       "</style>\n",
       "<table border=\"1\" class=\"dataframe\">\n",
       "  <thead>\n",
       "    <tr style=\"text-align: right;\">\n",
       "      <th></th>\n",
       "      <th>tBodyAcc-mean()-X</th>\n",
       "      <th>tBodyAcc-mean()-Y</th>\n",
       "      <th>tBodyAcc-mean()-Z</th>\n",
       "      <th>tBodyAcc-std()-X</th>\n",
       "      <th>tBodyAcc-std()-Y</th>\n",
       "      <th>tBodyAcc-std()-Z</th>\n",
       "      <th>tBodyAcc-mad()-X</th>\n",
       "      <th>tBodyAcc-mad()-Y</th>\n",
       "      <th>tBodyAcc-mad()-Z</th>\n",
       "      <th>tBodyAcc-max()-X</th>\n",
       "      <th>...</th>\n",
       "      <th>fBodyBodyGyroJerkMag-kurtosis()</th>\n",
       "      <th>angle(tBodyAccMean,gravity)</th>\n",
       "      <th>angle(tBodyAccJerkMean),gravityMean)</th>\n",
       "      <th>angle(tBodyGyroMean,gravityMean)</th>\n",
       "      <th>angle(tBodyGyroJerkMean,gravityMean)</th>\n",
       "      <th>angle(X,gravityMean)</th>\n",
       "      <th>angle(Y,gravityMean)</th>\n",
       "      <th>angle(Z,gravityMean)</th>\n",
       "      <th>subject</th>\n",
       "      <th>Activity</th>\n",
       "    </tr>\n",
       "  </thead>\n",
       "  <tbody>\n",
       "    <tr>\n",
       "      <th>0</th>\n",
       "      <td>0.288585</td>\n",
       "      <td>-0.020294</td>\n",
       "      <td>-0.132905</td>\n",
       "      <td>-0.995279</td>\n",
       "      <td>-0.983111</td>\n",
       "      <td>-0.913526</td>\n",
       "      <td>-0.995112</td>\n",
       "      <td>-0.983185</td>\n",
       "      <td>-0.923527</td>\n",
       "      <td>-0.934724</td>\n",
       "      <td>...</td>\n",
       "      <td>-0.710304</td>\n",
       "      <td>-0.112754</td>\n",
       "      <td>0.030400</td>\n",
       "      <td>-0.464761</td>\n",
       "      <td>-0.018446</td>\n",
       "      <td>-0.841247</td>\n",
       "      <td>0.179941</td>\n",
       "      <td>-0.058627</td>\n",
       "      <td>1</td>\n",
       "      <td>STANDING</td>\n",
       "    </tr>\n",
       "    <tr>\n",
       "      <th>1</th>\n",
       "      <td>0.278419</td>\n",
       "      <td>-0.016411</td>\n",
       "      <td>-0.123520</td>\n",
       "      <td>-0.998245</td>\n",
       "      <td>-0.975300</td>\n",
       "      <td>-0.960322</td>\n",
       "      <td>-0.998807</td>\n",
       "      <td>-0.974914</td>\n",
       "      <td>-0.957686</td>\n",
       "      <td>-0.943068</td>\n",
       "      <td>...</td>\n",
       "      <td>-0.861499</td>\n",
       "      <td>0.053477</td>\n",
       "      <td>-0.007435</td>\n",
       "      <td>-0.732626</td>\n",
       "      <td>0.703511</td>\n",
       "      <td>-0.844788</td>\n",
       "      <td>0.180289</td>\n",
       "      <td>-0.054317</td>\n",
       "      <td>1</td>\n",
       "      <td>STANDING</td>\n",
       "    </tr>\n",
       "    <tr>\n",
       "      <th>2</th>\n",
       "      <td>0.279653</td>\n",
       "      <td>-0.019467</td>\n",
       "      <td>-0.113462</td>\n",
       "      <td>-0.995380</td>\n",
       "      <td>-0.967187</td>\n",
       "      <td>-0.978944</td>\n",
       "      <td>-0.996520</td>\n",
       "      <td>-0.963668</td>\n",
       "      <td>-0.977469</td>\n",
       "      <td>-0.938692</td>\n",
       "      <td>...</td>\n",
       "      <td>-0.760104</td>\n",
       "      <td>-0.118559</td>\n",
       "      <td>0.177899</td>\n",
       "      <td>0.100699</td>\n",
       "      <td>0.808529</td>\n",
       "      <td>-0.848933</td>\n",
       "      <td>0.180637</td>\n",
       "      <td>-0.049118</td>\n",
       "      <td>1</td>\n",
       "      <td>STANDING</td>\n",
       "    </tr>\n",
       "    <tr>\n",
       "      <th>3</th>\n",
       "      <td>0.279174</td>\n",
       "      <td>-0.026201</td>\n",
       "      <td>-0.123283</td>\n",
       "      <td>-0.996091</td>\n",
       "      <td>-0.983403</td>\n",
       "      <td>-0.990675</td>\n",
       "      <td>-0.997099</td>\n",
       "      <td>-0.982750</td>\n",
       "      <td>-0.989302</td>\n",
       "      <td>-0.938692</td>\n",
       "      <td>...</td>\n",
       "      <td>-0.482845</td>\n",
       "      <td>-0.036788</td>\n",
       "      <td>-0.012892</td>\n",
       "      <td>0.640011</td>\n",
       "      <td>-0.485366</td>\n",
       "      <td>-0.848649</td>\n",
       "      <td>0.181935</td>\n",
       "      <td>-0.047663</td>\n",
       "      <td>1</td>\n",
       "      <td>STANDING</td>\n",
       "    </tr>\n",
       "  </tbody>\n",
       "</table>\n",
       "<p>4 rows × 563 columns</p>\n",
       "</div>"
      ],
      "text/plain": [
       "   tBodyAcc-mean()-X  tBodyAcc-mean()-Y  tBodyAcc-mean()-Z  tBodyAcc-std()-X  \\\n",
       "0           0.288585          -0.020294          -0.132905         -0.995279   \n",
       "1           0.278419          -0.016411          -0.123520         -0.998245   \n",
       "2           0.279653          -0.019467          -0.113462         -0.995380   \n",
       "3           0.279174          -0.026201          -0.123283         -0.996091   \n",
       "\n",
       "   tBodyAcc-std()-Y  tBodyAcc-std()-Z  tBodyAcc-mad()-X  tBodyAcc-mad()-Y  \\\n",
       "0         -0.983111         -0.913526         -0.995112         -0.983185   \n",
       "1         -0.975300         -0.960322         -0.998807         -0.974914   \n",
       "2         -0.967187         -0.978944         -0.996520         -0.963668   \n",
       "3         -0.983403         -0.990675         -0.997099         -0.982750   \n",
       "\n",
       "   tBodyAcc-mad()-Z  tBodyAcc-max()-X    ...     \\\n",
       "0         -0.923527         -0.934724    ...      \n",
       "1         -0.957686         -0.943068    ...      \n",
       "2         -0.977469         -0.938692    ...      \n",
       "3         -0.989302         -0.938692    ...      \n",
       "\n",
       "   fBodyBodyGyroJerkMag-kurtosis()  angle(tBodyAccMean,gravity)  \\\n",
       "0                        -0.710304                    -0.112754   \n",
       "1                        -0.861499                     0.053477   \n",
       "2                        -0.760104                    -0.118559   \n",
       "3                        -0.482845                    -0.036788   \n",
       "\n",
       "   angle(tBodyAccJerkMean),gravityMean)  angle(tBodyGyroMean,gravityMean)  \\\n",
       "0                              0.030400                         -0.464761   \n",
       "1                             -0.007435                         -0.732626   \n",
       "2                              0.177899                          0.100699   \n",
       "3                             -0.012892                          0.640011   \n",
       "\n",
       "   angle(tBodyGyroJerkMean,gravityMean)  angle(X,gravityMean)  \\\n",
       "0                             -0.018446             -0.841247   \n",
       "1                              0.703511             -0.844788   \n",
       "2                              0.808529             -0.848933   \n",
       "3                             -0.485366             -0.848649   \n",
       "\n",
       "   angle(Y,gravityMean)  angle(Z,gravityMean)  subject  Activity  \n",
       "0              0.179941             -0.058627        1  STANDING  \n",
       "1              0.180289             -0.054317        1  STANDING  \n",
       "2              0.180637             -0.049118        1  STANDING  \n",
       "3              0.181935             -0.047663        1  STANDING  \n",
       "\n",
       "[4 rows x 563 columns]"
      ]
     },
     "execution_count": 375,
     "metadata": {},
     "output_type": "execute_result"
    }
   ],
   "source": [
    "df.head(4)"
   ]
  },
  {
   "cell_type": "code",
   "execution_count": 376,
   "metadata": {},
   "outputs": [],
   "source": [
    "df_subject = df[df.subject == 1]  # to get all the rows with \"subject\" column value=1"
   ]
  },
  {
   "cell_type": "code",
   "execution_count": 377,
   "metadata": {
    "collapsed": true
   },
   "outputs": [],
   "source": [
    "data = np.array(df_subject.iloc[:,:-2]) # get all data except last two column, change to array"
   ]
  },
  {
   "cell_type": "code",
   "execution_count": 379,
   "metadata": {},
   "outputs": [],
   "source": [
    "U, s, V = np.linalg.svd(data) # do SVD for the data. \n",
    "#np.dot(U, np.dot(np.diag(s),V))"
   ]
  },
  {
   "cell_type": "code",
   "execution_count": 380,
   "metadata": {},
   "outputs": [
    {
     "data": {
      "text/plain": [
       "[]"
      ]
     },
     "execution_count": 380,
     "metadata": {},
     "output_type": "execute_result"
    },
    {
     "data": {
      "image/png": "[encoded data removed]",
      "text/plain": [
       "<matplotlib.figure.Figure at 0x26219ace898>"
      ]
     },
     "metadata": {},
     "output_type": "display_data"
    }
   ],
   "source": [
    "plt.plot(s)\n",
    "plt.semilogy()"
   ]
  },
  {
   "cell_type": "code",
   "execution_count": 356,
   "metadata": {},
   "outputs": [
    {
     "data": {
      "text/plain": [
       "(347, 561)"
      ]
     },
     "execution_count": 356,
     "metadata": {},
     "output_type": "execute_result"
    }
   ],
   "source": [
    "data.shape"
   ]
  },
  {
   "cell_type": "code",
   "execution_count": 357,
   "metadata": {},
   "outputs": [
    {
     "data": {
      "text/plain": [
       "(347, 347)"
      ]
     },
     "execution_count": 357,
     "metadata": {},
     "output_type": "execute_result"
    }
   ],
   "source": [
    "U.shape"
   ]
  },
  {
   "cell_type": "code",
   "execution_count": 361,
   "metadata": {},
   "outputs": [
    {
     "data": {
      "text/plain": [
       "(347, 347)"
      ]
     },
     "execution_count": 361,
     "metadata": {},
     "output_type": "execute_result"
    }
   ],
   "source": [
    "(np.diag(s)).shape"
   ]
  },
  {
   "cell_type": "code",
   "execution_count": 358,
   "metadata": {},
   "outputs": [
    {
     "data": {
      "text/plain": [
       "(561, 561)"
      ]
     },
     "execution_count": 358,
     "metadata": {},
     "output_type": "execute_result"
    }
   ],
   "source": [
    "V.shape"
   ]
  },
  {
   "cell_type": "code",
   "execution_count": 381,
   "metadata": {},
   "outputs": [
    {
     "data": {
      "text/plain": [
       "(347, 561)"
      ]
     },
     "execution_count": 381,
     "metadata": {},
     "output_type": "execute_result"
    }
   ],
   "source": [
    "data.shape"
   ]
  },
  {
   "cell_type": "code",
   "execution_count": 382,
   "metadata": {},
   "outputs": [
    {
     "data": {
      "text/plain": [
       "array([ 0.05509901,  0.05235954,  0.05051615,  0.04654907,  0.04497771,\n",
       "        0.04149722,  0.03911558,  0.03609977,  0.03199052,  0.03018237])"
      ]
     },
     "execution_count": 382,
     "metadata": {},
     "output_type": "execute_result"
    }
   ],
   "source": [
    "s[-10:]"
   ]
  },
  {
   "cell_type": "code",
   "execution_count": 383,
   "metadata": {},
   "outputs": [
    {
     "data": {
      "text/plain": [
       "array([ 282.15384003,   95.42353957,   36.85202834,   22.82138203,\n",
       "         19.08013692,   17.70325797,   14.88130032,   14.57952211,\n",
       "         13.41238157,   12.72725109])"
      ]
     },
     "execution_count": 383,
     "metadata": {},
     "output_type": "execute_result"
    }
   ],
   "source": [
    "s[:10]"
   ]
  },
  {
   "cell_type": "code",
   "execution_count": 384,
   "metadata": {},
   "outputs": [
    {
     "data": {
      "text/plain": [
       "array(['STANDING', 'SITTING', 'LAYING', 'WALKING', 'WALKING_DOWNSTAIRS',\n",
       "       'WALKING_UPSTAIRS'], dtype=object)"
      ]
     },
     "execution_count": 384,
     "metadata": {},
     "output_type": "execute_result"
    }
   ],
   "source": [
    "pd.unique(df_subject.Activity)"
   ]
  },
  {
   "cell_type": "code",
   "execution_count": 386,
   "metadata": {},
   "outputs": [
    {
     "data": {
      "text/plain": [
       "(347, 561)"
      ]
     },
     "execution_count": 386,
     "metadata": {},
     "output_type": "execute_result"
    }
   ],
   "source": [
    "data_projected = np.dot(V, data.T).T\n",
    "data_projected.shape"
   ]
  },
  {
   "cell_type": "code",
   "execution_count": 387,
   "metadata": {},
   "outputs": [
    {
     "data": {
      "text/plain": [
       "array(['STANDING', 'SITTING', 'LAYING', 'WALKING', 'WALKING_DOWNSTAIRS',\n",
       "       'WALKING_UPSTAIRS'], dtype=object)"
      ]
     },
     "execution_count": 387,
     "metadata": {},
     "output_type": "execute_result"
    }
   ],
   "source": [
    "pd.unique(df_subject.Activity)"
   ]
  },
  {
   "cell_type": "code",
   "execution_count": 389,
   "metadata": {},
   "outputs": [
    {
     "data": {
      "image/png": "[encoded data removed]",
      "text/plain": [
       "<matplotlib.figure.Figure at 0x2621805c160>"
      ]
     },
     "metadata": {},
     "output_type": "display_data"
    }
   ],
   "source": [
    "activity_codes = {\n",
    "    \"STANDING\": \"red\", \"SITTING\": \"green\", \"LAYING\": \"blue\", \"WALKING\": \"yellow\",\n",
    "    'WALKING_DOWNSTAIRS': \"cyan\", 'WALKING_UPSTAIRS': \"orange\" }\n",
    "\n",
    "for i in range(data_projected.shape[0]):\n",
    "    ax = plt.scatter(data_projected[i,1], data_projected[i,3], c = activity_codes[df_subject.Activity[i]])\n",
    "    "
   ]
  },
  {
   "cell_type": "code",
   "execution_count": 391,
   "metadata": {},
   "outputs": [
    {
     "data": {
      "image/png": "[encoded data removed]",
      "text/plain": [
       "<matplotlib.figure.Figure at 0x26219d0f940>"
      ]
     },
     "metadata": {},
     "output_type": "display_data"
    }
   ],
   "source": [
    "for i in range(data_projected.shape[0]):\n",
    "    ax = plt.scatter(data[i,1], data[i,2], c = activity_codes[df_subject.Activity[i]])\n",
    "\n"
   ]
  },
  {
   "cell_type": "code",
   "execution_count": 392,
   "metadata": {},
   "outputs": [
    {
     "data": {
      "image/png": "[encoded data removed]",
      "text/plain": [
       "<matplotlib.figure.Figure at 0x26218189208>"
      ]
     },
     "metadata": {},
     "output_type": "display_data"
    }
   ],
   "source": [
    "for i in range(data_projected.shape[0]):\n",
    "    plt.scatter(i, U[i,0], c = activity_codes[df_subject.Activity[i]])\n"
   ]
  },
  {
   "cell_type": "code",
   "execution_count": null,
   "metadata": {
    "collapsed": true
   },
   "outputs": [],
   "source": []
  }
 ],
 "metadata": {
  "kernelspec": {
   "display_name": "Python 3",
   "language": "python",
   "name": "python3"
  },
  "language_info": {
   "codemirror_mode": {
    "name": "ipython",
    "version": 3
   },
   "file_extension": ".py",
   "mimetype": "text/x-python",
   "name": "python",
   "nbconvert_exporter": "python",
   "pygments_lexer": "ipython3",
   "version": "3.6.1"
  }
 },
 "nbformat": 4,
 "nbformat_minor": 1
}
