{
 "cells": [
  {
   "cell_type": "markdown",
   "metadata": {},
   "source": [
    "# Data as a matrix\n",
    "\n",
    "As discussed earlier, it is useful to think of a data set as a matrix where each row corresponds to a matrix. This is especially useful if we want to predict something from data, as we often do in machine learning. For example, if we are trying to predict a single scalar value based on a set of inputs, then the inputs correpond to the different columns in our matrix. "
   ]
  },
  {
   "cell_type": "code",
   "execution_count": 2,
   "metadata": {
    "collapsed": true
   },
   "outputs": [],
   "source": [
    "import pandas as pd\n",
    "import numpy as np\n",
    "\n",
    "import matplotlib.pylab as plt\n",
    "\n",
    "\n",
    "from IPython.display import display, HTML\n",
    "\n",
    "%matplotlib inline"
   ]
  },
  {
   "cell_type": "code",
   "execution_count": 3,
   "metadata": {},
   "outputs": [
    {
     "data": {
      "text/html": [
       "<img src=\"./imgs/lecture-4/sample-data.png\" alt=\"Drawing\" style=\"width: 350px;\"/, align = \"left\">"
      ],
      "text/plain": [
       "<IPython.core.display.HTML object>"
      ]
     },
     "metadata": {},
     "output_type": "display_data"
    }
   ],
   "source": [
    "display(HTML('''<img src=\"./imgs/lecture-4/sample-data.png\" alt=\"Drawing\" style=\"width: 350px;\"/, align = \"left\">'''))"
   ]
  },
  {
   "cell_type": "markdown",
   "metadata": {},
   "source": [
    "It is sometimes helpful to visualize a data set in a vector space as shown above. In this view you can think of each sample (each row) as a single dot. Of course, real data usually is not neaetly so linearly structured, but it is almost always somehow structured. The tools we discuss in this class assume that the data are in some hyperplane. "
   ]
  },
  {
   "cell_type": "markdown",
   "metadata": {},
   "source": [
    "# The \"inverse\" problem or \"Ordinary Least Squares\"\n",
    "\n",
    "The forward problem is for a given $\\beta \\in \\mathbb{R}^n$ and $X \\in \\mathbb{R}^{m\\times n}$ to compute $y = X\\beta$ with $y \\in \\mathbb{R}^m$. These operations are fairly straightforward. Things get intersting when we deal with the inverse problem.\n",
    "\n",
    "The inverse problem is for a given $y \\in \\mathbb{R}^m$ and $X \\in \\mathbb{R}^{m\\times n}$  we want to find $\\beta$ so that $y \\approx X\\beta$. Ideally, we want $y = X\\beta$ but often exactly eqaulity is not possible. \n",
    "\n",
    "So we want to find a $\\beta$ that is as *close* as possible to \n",
    "\n",
    "Geometrically, this is what this looks like:"
   ]
  },
  {
   "cell_type": "code",
   "execution_count": 4,
   "metadata": {},
   "outputs": [
    {
     "data": {
      "text/html": [
       "<img src=\"./imgs/lecture-4/Linear_least_squares_geometric_interpretation.png\" alt=\"Drawing\" style=\"width: 350px;\"/, align = \"left\">"
      ],
      "text/plain": [
       "<IPython.core.display.HTML object>"
      ]
     },
     "metadata": {},
     "output_type": "display_data"
    }
   ],
   "source": [
    "display(HTML('''<img src=\"./imgs/lecture-4/Linear_least_squares_geometric_interpretation.png\" alt=\"Drawing\" style=\"width: 350px;\"/, align = \"left\">'''))"
   ]
  },
  {
   "cell_type": "markdown",
   "metadata": {},
   "source": [
    "We can think of $y - X\\beta$ as just a vector - sometimes called a \"residual\" or error vector. We want to find a $\\beta$ so that the *magnitude* of the error vector is as small.  We can use the 2-norm as a measure of the magnitude of the error vector. \n",
    "\n",
    "In particular, we want to find a $\\beta$ so that the *squared* of the magntiude is small:\n",
    "\n",
    "$||(y - X\\beta)||_{2}^{2}$\n",
    "\n",
    "We think of this as a **loss function**. The loss function measures how irritated we are that $||(y - X\\beta)||_{2}^{2} \\neq 0$\n",
    "\n",
    "This is equivalent to writing:\n",
    "\n",
    "$L(\\beta) = (y - X\\beta)^{T}(y - X\\beta)$\n",
    "\n",
    "In short, we would like to find a $\\beta$ that minimizes our loss function $L(\\beta)$. For this, we can use calculus and find the stationary point. This yields the so-called **normal equations** (参考[向量的偏导数计算公式](http://blog.sina.com.cn/s/blog_4aee288a0100gu3w.html)，以及《线性代数及其应用》6.1内积或[内积公式](https://zh.wikipedia.org/wiki/%E6%95%B0%E9%87%8F%E7%A7%AF))\n",
    "\n",
    "$X^{T}X\\beta = X^{T}y$ \n",
    "\n",
    "If the inverse of $X^{T}X$ exists, then we have\n",
    "\n",
    "$\\beta = (X^{T}X)^{-1}X^{T}y$\n",
    "\n",
    "If the inverse of $X^{T}X$ does *not* exist, then we can use the psuedo-inverse:\n",
    "\n",
    "$\\beta = (X^{T}X)^{+}X^{T}y$\n",
    "\n",
    "**[below note is from Lucas understanding]**:\n",
    "\n",
    "$\\beta$ above is the value to minize $L(\\beta)$; As comparasion:\n",
    "\n",
    "$y=X\\beta$\n",
    "\n",
    "Based on whether the inverse of X exists or not:\n",
    "\n",
    "$\\beta=X^{-1}y$, or $\\beta=X^{+}y$\n",
    "\n",
    "However, this $\\beta$ may not minimize the loss function. \n"
   ]
  },
  {
   "cell_type": "code",
   "execution_count": 5,
   "metadata": {},
   "outputs": [
    {
     "data": {
      "text/html": [
       "<img src=\"./imgs/lecture-4/old-geomteric.png\" alt=\"Drawing\" style=\"width: 450px;\"/, align = \"left\">"
      ],
      "text/plain": [
       "<IPython.core.display.HTML object>"
      ]
     },
     "metadata": {},
     "output_type": "display_data"
    }
   ],
   "source": [
    "display(HTML('''<img src=\"./imgs/lecture-4/old-geomteric.png\" alt=\"Drawing\" style=\"width: 450px;\"/, align = \"left\">'''))"
   ]
  },
  {
   "cell_type": "code",
   "execution_count": 6,
   "metadata": {},
   "outputs": [
    {
     "data": {
      "text/plain": [
       "[<matplotlib.lines.Line2D at 0x2bd586e6748>]"
      ]
     },
     "execution_count": 6,
     "metadata": {},
     "output_type": "execute_result"
    },
    {
     "data": {
      "image/png": "[encoded data removed]",
      "text/plain": [
       "<matplotlib.figure.Figure at 0x2bd582f6320>"
      ]
     },
     "metadata": {},
     "output_type": "display_data"
    }
   ],
   "source": [
    "N = 500 # total number of data points\n",
    "x = np.linspace(start = -3, stop = 3, num = N)\n",
    "y_orig =  3.3 + 1.1*x \n",
    "## Add white noise\n",
    "y =  y_orig + .5*np.random.randn(N)\n",
    "plt.plot(x, y, '.')"
   ]
  },
  {
   "cell_type": "code",
   "execution_count": 7,
   "metadata": {},
   "outputs": [
    {
     "data": {
      "text/plain": [
       "<a list of 7 text.Text objects>"
      ]
     },
     "execution_count": 7,
     "metadata": {},
     "output_type": "execute_result"
    },
    {
     "data": {
      "image/png": "[encoded data removed]",
      "text/plain": [
       "<matplotlib.figure.Figure at 0x2bd568ea5f8>"
      ]
     },
     "metadata": {},
     "output_type": "display_data"
    }
   ],
   "source": [
    "def loss_func(w0, w1, X, y):\n",
    "    losses = 0\n",
    "    for i in range(X.shape[0]):\n",
    "        losses += (w0 + X[i]*w1 - y[i])**2\n",
    "    return losses\n",
    "\n",
    "w0 = np.arange(-10.0,10.0,0.1)\n",
    "w1 = np.arange(-10.0,10.0,0.1)\n",
    "W0,W1 = plt.meshgrid(w0, w1)\n",
    "Z = loss_func(W0, W1, x, y)\n",
    "CS = plt.contour(W0, W1, Z, levels = np.logspace(0, 8, 20))\n",
    "\n",
    "plt.clabel(CS, inline=1, fmt='%1.1f', fontsize=8)"
   ]
  },
  {
   "cell_type": "code",
   "execution_count": 8,
   "metadata": {
    "collapsed": true
   },
   "outputs": [],
   "source": [
    "data = np.hstack((np.ones((N,1)), x[:,np.newaxis]))\n",
    "\n",
    "# to compute: β=(XTX)+XTy in above textbook. \n",
    "weights = np.dot(np.dot(np.linalg.inv(np.dot(data.T, data)), data.T), y)"
   ]
  },
  {
   "cell_type": "code",
   "execution_count": 9,
   "metadata": {},
   "outputs": [
    {
     "data": {
      "text/plain": [
       "array([ 3.29905255,  1.10876827])"
      ]
     },
     "execution_count": 9,
     "metadata": {},
     "output_type": "execute_result"
    }
   ],
   "source": [
    "weights"
   ]
  },
  {
   "cell_type": "code",
   "execution_count": 10,
   "metadata": {},
   "outputs": [
    {
     "data": {
      "text/plain": [
       "(2, 500)"
      ]
     },
     "execution_count": 10,
     "metadata": {},
     "output_type": "execute_result"
    }
   ],
   "source": [
    "# to compute: β=inv(x) . y\n",
    "np.linalg.pinv(data).shape"
   ]
  },
  {
   "cell_type": "code",
   "execution_count": 11,
   "metadata": {},
   "outputs": [
    {
     "data": {
      "text/plain": [
       "array([ 3.29905255,  1.10876827])"
      ]
     },
     "execution_count": 11,
     "metadata": {},
     "output_type": "execute_result"
    }
   ],
   "source": [
    "weights_2 = np.dot(np.linalg.pinv(data),y)\n",
    "weights_2"
   ]
  },
  {
   "cell_type": "code",
   "execution_count": 12,
   "metadata": {},
   "outputs": [
    {
     "data": {
      "text/plain": [
       "array([-3.        , -2.98797595, -2.9759519 , -2.96392786, -2.95190381])"
      ]
     },
     "execution_count": 12,
     "metadata": {},
     "output_type": "execute_result"
    }
   ],
   "source": [
    "x[:5]"
   ]
  },
  {
   "cell_type": "code",
   "execution_count": 13,
   "metadata": {},
   "outputs": [
    {
     "data": {
      "text/plain": [
       "array([[-3.        ],\n",
       "       [-2.98797595],\n",
       "       [-2.9759519 ],\n",
       "       [-2.96392786],\n",
       "       [-2.95190381]])"
      ]
     },
     "execution_count": 13,
     "metadata": {},
     "output_type": "execute_result"
    }
   ],
   "source": [
    "x[:,np.newaxis][:5]"
   ]
  },
  {
   "cell_type": "code",
   "execution_count": 14,
   "metadata": {},
   "outputs": [
    {
     "data": {
      "text/plain": [
       "array([[ 1.        , -3.        ],\n",
       "       [ 1.        , -2.98797595],\n",
       "       [ 1.        , -2.9759519 ],\n",
       "       [ 1.        , -2.96392786],\n",
       "       [ 1.        , -2.95190381]])"
      ]
     },
     "execution_count": 14,
     "metadata": {},
     "output_type": "execute_result"
    }
   ],
   "source": [
    "data[:5]"
   ]
  },
  {
   "cell_type": "code",
   "execution_count": 15,
   "metadata": {},
   "outputs": [
    {
     "data": {
      "text/plain": [
       "(500,)"
      ]
     },
     "execution_count": 15,
     "metadata": {},
     "output_type": "execute_result"
    }
   ],
   "source": [
    "x.shape"
   ]
  },
  {
   "cell_type": "code",
   "execution_count": 16,
   "metadata": {},
   "outputs": [
    {
     "data": {
      "text/plain": [
       "(500, 1)"
      ]
     },
     "execution_count": 16,
     "metadata": {},
     "output_type": "execute_result"
    }
   ],
   "source": [
    "x[:,np.newaxis].shape"
   ]
  },
  {
   "cell_type": "code",
   "execution_count": 17,
   "metadata": {},
   "outputs": [
    {
     "data": {
      "text/plain": [
       "(500, 2)"
      ]
     },
     "execution_count": 17,
     "metadata": {},
     "output_type": "execute_result"
    }
   ],
   "source": [
    "data.shape"
   ]
  },
  {
   "cell_type": "code",
   "execution_count": 18,
   "metadata": {},
   "outputs": [
    {
     "data": {
      "text/plain": [
       "0.013178760523858912"
      ]
     },
     "execution_count": 18,
     "metadata": {},
     "output_type": "execute_result"
    }
   ],
   "source": [
    "y_hat = np.dot(data, weights)\n",
    "np.median(np.sqrt((y_hat - y_orig)**2))"
   ]
  },
  {
   "cell_type": "code",
   "execution_count": 19,
   "metadata": {},
   "outputs": [
    {
     "data": {
      "text/plain": [
       "[<matplotlib.lines.Line2D at 0x2bd58cd0400>]"
      ]
     },
     "execution_count": 19,
     "metadata": {},
     "output_type": "execute_result"
    },
    {
     "data": {
      "image/png": "[encoded data removed]",
      "text/plain": [
       "<matplotlib.figure.Figure at 0x2bd56bc3160>"
      ]
     },
     "metadata": {},
     "output_type": "display_data"
    }
   ],
   "source": [
    "N = 500 # total number of data points\n",
    "x = np.linspace(start = -3, stop = 3, num = N)\n",
    "y_orig =  3.3 + 1.1*x + 2*x**2\n",
    "## Add white noise\n",
    "y =  y_orig + 1*np.random.randn(N)\n",
    "plt.plot(x, y, '.')"
   ]
  },
  {
   "cell_type": "code",
   "execution_count": 20,
   "metadata": {},
   "outputs": [
    {
     "data": {
      "text/plain": [
       "4.6970453768960256"
      ]
     },
     "execution_count": 20,
     "metadata": {},
     "output_type": "execute_result"
    },
    {
     "data": {
      "image/png": "[encoded data removed]",
      "text/plain": [
       "<matplotlib.figure.Figure at 0x2bd5886d2b0>"
      ]
     },
     "metadata": {},
     "output_type": "display_data"
    }
   ],
   "source": [
    "w0 = np.arange(-10.0,10.0,0.1)\n",
    "w1 = np.arange(-10.0,10.0,0.1)\n",
    "W0,W1 = plt.meshgrid(w0, w1)\n",
    "Z = loss_func(W0, W1, x, y)\n",
    "CS=plt.contour(W0, W1, Z, levels = np.logspace(0, 8, 20))\n",
    "plt.clabel(CS, inline=1, fmt='%1.1f', fontsize=8)\n",
    "data = np.hstack((np.ones((N,1)), x[:,np.newaxis]))\n",
    "weights = np.dot(np.dot(np.linalg.inv(np.dot(data.T, data)), data.T), y)\n",
    "weights\n",
    "y_hat = np.dot(data, weights)\n",
    "np.median(np.sqrt((y_hat - y_orig)**2))"
   ]
  },
  {
   "cell_type": "code",
   "execution_count": 21,
   "metadata": {},
   "outputs": [
    {
     "data": {
      "text/plain": [
       "array([ 9.31450997,  1.08430851])"
      ]
     },
     "execution_count": 21,
     "metadata": {},
     "output_type": "execute_result"
    }
   ],
   "source": [
    "weights"
   ]
  },
  {
   "cell_type": "code",
   "execution_count": 22,
   "metadata": {},
   "outputs": [
    {
     "data": {
      "text/plain": [
       "0.81564737014923316"
      ]
     },
     "execution_count": 22,
     "metadata": {},
     "output_type": "execute_result"
    }
   ],
   "source": [
    "# note: when we build the \"data\" array, the f(x) was part of the columns. \n",
    "# the trick is how to determine the f(x)\n",
    "data = np.hstack((np.ones((N,1)), x[:,np.newaxis],  x[:,np.newaxis]**2,  \n",
    "                  x[:,np.newaxis]**3))\n",
    "#data = np.hstack((np.ones((N,1)), x[:,np.newaxis],  x[:,np.newaxis]**2))\n",
    "weights = np.dot(np.dot(np.linalg.inv(np.dot(data.T, data)), data.T), y)\n",
    "weights\n",
    "y_hat = np.dot(data, weights)\n",
    "np.mean(np.sqrt((y_hat - y)**2))"
   ]
  },
  {
   "cell_type": "code",
   "execution_count": 23,
   "metadata": {},
   "outputs": [
    {
     "data": {
      "text/plain": [
       "array([ 3.395274  ,  1.06330489,  1.96520209,  0.00387405])"
      ]
     },
     "execution_count": 23,
     "metadata": {},
     "output_type": "execute_result"
    }
   ],
   "source": [
    "weights"
   ]
  },
  {
   "cell_type": "code",
   "execution_count": 24,
   "metadata": {},
   "outputs": [
    {
     "data": {
      "text/html": [
       "<img src=\"./imgs/lecture-4/too-many-predictors.png\" alt=\"Drawing\" style=\"width: 750px;\"/, align = \"left\">"
      ],
      "text/plain": [
       "<IPython.core.display.HTML object>"
      ]
     },
     "metadata": {},
     "output_type": "display_data"
    }
   ],
   "source": [
    "# the original data is the green line - a sin() function M=3 did good prediction closer to true function even error is not 0\n",
    "# right figure is too many functions/predictors, which is also bad even error become zero.\n",
    "display(HTML('''<img src=\"./imgs/lecture-4/too-many-predictors.png\" alt=\"Drawing\" style=\"width: 750px;\"/, align = \"left\">'''))"
   ]
  },
  {
   "cell_type": "markdown",
   "metadata": {},
   "source": [
    "# Exercise 1\n",
    "\n",
    "\n",
    "Define **condition number** of a matrix to be the ratio of the largest to smallet singular values. In this exercise we want to explore how the condition number is distributed for random IID matrices. \n",
    "1. Generate 2-by-2 matrix from IID draws from a Normal distribution with mean 0 and standard deviation 1.0 and compute the condition number.\n",
    "2. Repeat step 1 for 1,000 (or more) times and display a histogram of to get a sense for how condition numbers are distributed\n",
    "\n"
   ]
  },
  {
   "cell_type": "code",
   "execution_count": 25,
   "metadata": {},
   "outputs": [
    {
     "name": "stdout",
     "output_type": "stream",
     "text": [
      "Wall time: 49.1 ms\n"
     ]
    }
   ],
   "source": [
    "%%time \n",
    "\n",
    "d = 2\n",
    "N = 1000\n",
    "cond_nums = np.zeros(N)\n",
    "for i in range(N):\n",
    "    A = np.random.randn(d,d)\n",
    "    _,s,_ = np.linalg.svd(A)\n",
    "    cond_num = s[0]/s[-1]\n",
    "    cond_nums[i] = cond_num"
   ]
  },
  {
   "cell_type": "code",
   "execution_count": 26,
   "metadata": {},
   "outputs": [
    {
     "data": {
      "image/png": "[encoded data removed]",
      "text/plain": [
       "<matplotlib.figure.Figure at 0x2bd58c97588>"
      ]
     },
     "metadata": {},
     "output_type": "display_data"
    }
   ],
   "source": [
    "plt.hist(cond_nums, bins=100);"
   ]
  },
  {
   "cell_type": "code",
   "execution_count": 27,
   "metadata": {},
   "outputs": [
    {
     "data": {
      "image/png": "[encoded data removed]",
      "text/plain": [
       "<matplotlib.figure.Figure at 0x2bd5882db38>"
      ]
     },
     "metadata": {},
     "output_type": "display_data"
    }
   ],
   "source": [
    "plt.hist(np.log10(cond_nums), bins=100);"
   ]
  },
  {
   "cell_type": "code",
   "execution_count": 28,
   "metadata": {},
   "outputs": [
    {
     "data": {
      "text/plain": [
       "(0.69422099383526548, 0.58277450555438337)"
      ]
     },
     "execution_count": 28,
     "metadata": {},
     "output_type": "execute_result"
    }
   ],
   "source": [
    "np.mean(np.log10(cond_nums)), np.median(np.log10(cond_nums))"
   ]
  },
  {
   "cell_type": "markdown",
   "metadata": {},
   "source": [
    "\n",
    "# Exercise 2\n",
    "\n",
    "\n",
    "Repeat exercise 1 but for\n",
    "- 5-by-5 matrices\n",
    "- 10-by-10\n",
    "- 100-by-100\n",
    "- *Optional:* create a boxplot for each of the cases so that you can show how the distributions vary for each case. A good resource for making visualizations in Python is: https://python-graph-gallery.com"
   ]
  },
  {
   "cell_type": "code",
   "execution_count": 29,
   "metadata": {
    "collapsed": true
   },
   "outputs": [],
   "source": [
    "def get_cond_nums(dim, num_samples):\n",
    "    d = dim\n",
    "    N = num_samples\n",
    "    cond_nums = np.zeros(N)\n",
    "    for i in range(N):\n",
    "        A = np.random.randn(d,d)\n",
    "        _,s,_ = np.linalg.svd(A)\n",
    "        cond_num = s[0]/s[-1]\n",
    "        cond_nums[i] = cond_num\n",
    "        \n",
    "    return cond_nums"
   ]
  },
  {
   "cell_type": "code",
   "execution_count": 30,
   "metadata": {
    "collapsed": true
   },
   "outputs": [],
   "source": [
    "dimensions = [5, 10, 100]\n",
    "\n",
    "N = 1000\n",
    "\n",
    "condition_numbers = {}\n",
    "\n",
    "for dimension in dimensions:\n",
    "    condition_numbers[dimension] = get_cond_nums(dim = dimension, num_samples = N)"
   ]
  },
  {
   "cell_type": "code",
   "execution_count": 31,
   "metadata": {},
   "outputs": [
    {
     "data": {
      "text/plain": [
       "(1000,)"
      ]
     },
     "execution_count": 31,
     "metadata": {},
     "output_type": "execute_result"
    }
   ],
   "source": [
    "condition_numbers[10].shape"
   ]
  },
  {
   "cell_type": "code",
   "execution_count": 32,
   "metadata": {
    "collapsed": true
   },
   "outputs": [],
   "source": [
    "df_cond_nums = pd.DataFrame.from_dict(condition_numbers, orient='index')\n",
    "df_cond_nums[\"dimension\"] = df_cond_nums.index"
   ]
  },
  {
   "cell_type": "code",
   "execution_count": 33,
   "metadata": {},
   "outputs": [
    {
     "data": {
      "text/plain": [
       "(3, 1001)"
      ]
     },
     "execution_count": 33,
     "metadata": {},
     "output_type": "execute_result"
    }
   ],
   "source": [
    "# df_cond_nums is a DataFrame. One extra column is for dictionary keys. \n",
    "df_cond_nums.shape"
   ]
  },
  {
   "cell_type": "code",
   "execution_count": 34,
   "metadata": {},
   "outputs": [
    {
     "data": {
      "text/html": [
       "<div>\n",
       "<style>\n",
       "    .dataframe thead tr:only-child th {\n",
       "        text-align: right;\n",
       "    }\n",
       "\n",
       "    .dataframe thead th {\n",
       "        text-align: left;\n",
       "    }\n",
       "\n",
       "    .dataframe tbody tr th {\n",
       "        vertical-align: top;\n",
       "    }\n",
       "</style>\n",
       "<table border=\"1\" class=\"dataframe\">\n",
       "  <thead>\n",
       "    <tr style=\"text-align: right;\">\n",
       "      <th></th>\n",
       "      <th>0</th>\n",
       "      <th>1</th>\n",
       "      <th>2</th>\n",
       "      <th>3</th>\n",
       "    </tr>\n",
       "  </thead>\n",
       "  <tbody>\n",
       "    <tr>\n",
       "      <th>5</th>\n",
       "      <td>18.540912</td>\n",
       "      <td>4.825822</td>\n",
       "      <td>164.027155</td>\n",
       "      <td>9.220268</td>\n",
       "    </tr>\n",
       "    <tr>\n",
       "      <th>10</th>\n",
       "      <td>44.863336</td>\n",
       "      <td>38.497792</td>\n",
       "      <td>50.527880</td>\n",
       "      <td>58.700435</td>\n",
       "    </tr>\n",
       "    <tr>\n",
       "      <th>100</th>\n",
       "      <td>223.546320</td>\n",
       "      <td>199.281223</td>\n",
       "      <td>493.287266</td>\n",
       "      <td>93.908679</td>\n",
       "    </tr>\n",
       "  </tbody>\n",
       "</table>\n",
       "</div>"
      ],
      "text/plain": [
       "              0           1           2          3\n",
       "5     18.540912    4.825822  164.027155   9.220268\n",
       "10    44.863336   38.497792   50.527880  58.700435\n",
       "100  223.546320  199.281223  493.287266  93.908679"
      ]
     },
     "execution_count": 34,
     "metadata": {},
     "output_type": "execute_result"
    }
   ],
   "source": [
    "# df_cond_nums is a DataFrame, cannot use df_cond_nums[:,:3]\n",
    "df_cond_nums.iloc[:,:4]\n",
    "# df_cond_nums.index"
   ]
  },
  {
   "cell_type": "code",
   "execution_count": 35,
   "metadata": {
    "collapsed": true
   },
   "outputs": [],
   "source": [
    "df_cond_nums_melt = pd.melt(df_cond_nums, id_vars= \"dimension\")"
   ]
  },
  {
   "cell_type": "code",
   "execution_count": 36,
   "metadata": {},
   "outputs": [
    {
     "data": {
      "text/plain": [
       "(3000, 3)"
      ]
     },
     "execution_count": 36,
     "metadata": {},
     "output_type": "execute_result"
    }
   ],
   "source": [
    "# df_cond_nums_melt.columns.values\n",
    "df_cond_nums_melt.shape"
   ]
  },
  {
   "cell_type": "code",
   "execution_count": 37,
   "metadata": {},
   "outputs": [
    {
     "data": {
      "text/html": [
       "<div>\n",
       "<style>\n",
       "    .dataframe thead tr:only-child th {\n",
       "        text-align: right;\n",
       "    }\n",
       "\n",
       "    .dataframe thead th {\n",
       "        text-align: left;\n",
       "    }\n",
       "\n",
       "    .dataframe tbody tr th {\n",
       "        vertical-align: top;\n",
       "    }\n",
       "</style>\n",
       "<table border=\"1\" class=\"dataframe\">\n",
       "  <thead>\n",
       "    <tr style=\"text-align: right;\">\n",
       "      <th></th>\n",
       "      <th>dimension</th>\n",
       "      <th>variable</th>\n",
       "      <th>value</th>\n",
       "    </tr>\n",
       "  </thead>\n",
       "  <tbody>\n",
       "    <tr>\n",
       "      <th>0</th>\n",
       "      <td>5</td>\n",
       "      <td>0</td>\n",
       "      <td>18.540912</td>\n",
       "    </tr>\n",
       "    <tr>\n",
       "      <th>1</th>\n",
       "      <td>10</td>\n",
       "      <td>0</td>\n",
       "      <td>44.863336</td>\n",
       "    </tr>\n",
       "    <tr>\n",
       "      <th>2</th>\n",
       "      <td>100</td>\n",
       "      <td>0</td>\n",
       "      <td>223.546320</td>\n",
       "    </tr>\n",
       "    <tr>\n",
       "      <th>3</th>\n",
       "      <td>5</td>\n",
       "      <td>1</td>\n",
       "      <td>4.825822</td>\n",
       "    </tr>\n",
       "    <tr>\n",
       "      <th>4</th>\n",
       "      <td>10</td>\n",
       "      <td>1</td>\n",
       "      <td>38.497792</td>\n",
       "    </tr>\n",
       "    <tr>\n",
       "      <th>5</th>\n",
       "      <td>100</td>\n",
       "      <td>1</td>\n",
       "      <td>199.281223</td>\n",
       "    </tr>\n",
       "    <tr>\n",
       "      <th>6</th>\n",
       "      <td>5</td>\n",
       "      <td>2</td>\n",
       "      <td>164.027155</td>\n",
       "    </tr>\n",
       "    <tr>\n",
       "      <th>7</th>\n",
       "      <td>10</td>\n",
       "      <td>2</td>\n",
       "      <td>50.527880</td>\n",
       "    </tr>\n",
       "    <tr>\n",
       "      <th>8</th>\n",
       "      <td>100</td>\n",
       "      <td>2</td>\n",
       "      <td>493.287266</td>\n",
       "    </tr>\n",
       "    <tr>\n",
       "      <th>9</th>\n",
       "      <td>5</td>\n",
       "      <td>3</td>\n",
       "      <td>9.220268</td>\n",
       "    </tr>\n",
       "  </tbody>\n",
       "</table>\n",
       "</div>"
      ],
      "text/plain": [
       "   dimension variable       value\n",
       "0          5        0   18.540912\n",
       "1         10        0   44.863336\n",
       "2        100        0  223.546320\n",
       "3          5        1    4.825822\n",
       "4         10        1   38.497792\n",
       "5        100        1  199.281223\n",
       "6          5        2  164.027155\n",
       "7         10        2   50.527880\n",
       "8        100        2  493.287266\n",
       "9          5        3    9.220268"
      ]
     },
     "execution_count": 37,
     "metadata": {},
     "output_type": "execute_result"
    }
   ],
   "source": [
    "df_cond_nums_melt.iloc[:10,:10]"
   ]
  },
  {
   "cell_type": "code",
   "execution_count": 38,
   "metadata": {},
   "outputs": [
    {
     "data": {
      "text/html": [
       "<div>\n",
       "<style>\n",
       "    .dataframe thead tr:only-child th {\n",
       "        text-align: right;\n",
       "    }\n",
       "\n",
       "    .dataframe thead th {\n",
       "        text-align: left;\n",
       "    }\n",
       "\n",
       "    .dataframe tbody tr th {\n",
       "        vertical-align: top;\n",
       "    }\n",
       "</style>\n",
       "<table border=\"1\" class=\"dataframe\">\n",
       "  <thead>\n",
       "    <tr style=\"text-align: right;\">\n",
       "      <th></th>\n",
       "      <th>dimension</th>\n",
       "      <th>variable</th>\n",
       "      <th>value</th>\n",
       "    </tr>\n",
       "  </thead>\n",
       "  <tbody>\n",
       "    <tr>\n",
       "      <th>0</th>\n",
       "      <td>5</td>\n",
       "      <td>0</td>\n",
       "      <td>18.540912</td>\n",
       "    </tr>\n",
       "    <tr>\n",
       "      <th>1</th>\n",
       "      <td>10</td>\n",
       "      <td>0</td>\n",
       "      <td>44.863336</td>\n",
       "    </tr>\n",
       "    <tr>\n",
       "      <th>2</th>\n",
       "      <td>100</td>\n",
       "      <td>0</td>\n",
       "      <td>223.546320</td>\n",
       "    </tr>\n",
       "    <tr>\n",
       "      <th>3</th>\n",
       "      <td>5</td>\n",
       "      <td>1</td>\n",
       "      <td>4.825822</td>\n",
       "    </tr>\n",
       "    <tr>\n",
       "      <th>4</th>\n",
       "      <td>10</td>\n",
       "      <td>1</td>\n",
       "      <td>38.497792</td>\n",
       "    </tr>\n",
       "  </tbody>\n",
       "</table>\n",
       "</div>"
      ],
      "text/plain": [
       "   dimension variable       value\n",
       "0          5        0   18.540912\n",
       "1         10        0   44.863336\n",
       "2        100        0  223.546320\n",
       "3          5        1    4.825822\n",
       "4         10        1   38.497792"
      ]
     },
     "execution_count": 38,
     "metadata": {},
     "output_type": "execute_result"
    }
   ],
   "source": [
    "df_cond_nums_melt.head()"
   ]
  },
  {
   "cell_type": "code",
   "execution_count": 39,
   "metadata": {
    "collapsed": true
   },
   "outputs": [],
   "source": [
    "df_cond_nums_melt.value = np.log10(df_cond_nums_melt.value)"
   ]
  },
  {
   "cell_type": "code",
   "execution_count": 40,
   "metadata": {},
   "outputs": [
    {
     "data": {
      "text/html": [
       "<div>\n",
       "<style>\n",
       "    .dataframe thead tr:only-child th {\n",
       "        text-align: right;\n",
       "    }\n",
       "\n",
       "    .dataframe thead th {\n",
       "        text-align: left;\n",
       "    }\n",
       "\n",
       "    .dataframe tbody tr th {\n",
       "        vertical-align: top;\n",
       "    }\n",
       "</style>\n",
       "<table border=\"1\" class=\"dataframe\">\n",
       "  <thead>\n",
       "    <tr style=\"text-align: right;\">\n",
       "      <th></th>\n",
       "      <th>value</th>\n",
       "    </tr>\n",
       "    <tr>\n",
       "      <th>dimension</th>\n",
       "      <th></th>\n",
       "    </tr>\n",
       "  </thead>\n",
       "  <tbody>\n",
       "    <tr>\n",
       "      <th>5</th>\n",
       "      <td>1.174778</td>\n",
       "    </tr>\n",
       "    <tr>\n",
       "      <th>10</th>\n",
       "      <td>1.484636</td>\n",
       "    </tr>\n",
       "    <tr>\n",
       "      <th>100</th>\n",
       "      <td>2.530373</td>\n",
       "    </tr>\n",
       "  </tbody>\n",
       "</table>\n",
       "</div>"
      ],
      "text/plain": [
       "              value\n",
       "dimension          \n",
       "5          1.174778\n",
       "10         1.484636\n",
       "100        2.530373"
      ]
     },
     "execution_count": 40,
     "metadata": {},
     "output_type": "execute_result"
    }
   ],
   "source": [
    "df_cond_nums_melt.groupby(\"dimension\").agg(np.median)"
   ]
  },
  {
   "cell_type": "markdown",
   "metadata": {},
   "source": [
    "# Exercise 3 \n",
    "\n",
    "Repeat exercise 2 but modify each matrix generated to be duplicated horizontally. So if you generated a matrix $A \\in \\mathbb{R}^{n\\times n}$, modify this matrix to $B = \n",
    "\\begin{bmatrix}\n",
    "A & A\n",
    "\\end{bmatrix}$"
   ]
  },
  {
   "cell_type": "code",
   "execution_count": 41,
   "metadata": {
    "collapsed": true
   },
   "outputs": [],
   "source": [
    "def get_cond_nums_ex3(dim, num_samples):\n",
    "    d = dim\n",
    "    N = num_samples\n",
    "    cond_nums = np.zeros(N)\n",
    "    for i in range(N):\n",
    "        A = np.random.randn(d,d)\n",
    "        B = np.hstack((A,A))\n",
    "        _,s,_ = np.linalg.svd(B)\n",
    "        cond_num = s[0]/s[-1]\n",
    "        cond_nums[i] = cond_num\n",
    "        \n",
    "    return cond_nums"
   ]
  },
  {
   "cell_type": "code",
   "execution_count": 42,
   "metadata": {},
   "outputs": [
    {
     "data": {
      "text/html": [
       "<div>\n",
       "<style>\n",
       "    .dataframe thead tr:only-child th {\n",
       "        text-align: right;\n",
       "    }\n",
       "\n",
       "    .dataframe thead th {\n",
       "        text-align: left;\n",
       "    }\n",
       "\n",
       "    .dataframe tbody tr th {\n",
       "        vertical-align: top;\n",
       "    }\n",
       "</style>\n",
       "<table border=\"1\" class=\"dataframe\">\n",
       "  <thead>\n",
       "    <tr style=\"text-align: right;\">\n",
       "      <th></th>\n",
       "      <th>value</th>\n",
       "    </tr>\n",
       "    <tr>\n",
       "      <th>dimension</th>\n",
       "      <th></th>\n",
       "    </tr>\n",
       "  </thead>\n",
       "  <tbody>\n",
       "    <tr>\n",
       "      <th>5</th>\n",
       "      <td>1.146479</td>\n",
       "    </tr>\n",
       "    <tr>\n",
       "      <th>10</th>\n",
       "      <td>1.490624</td>\n",
       "    </tr>\n",
       "    <tr>\n",
       "      <th>100</th>\n",
       "      <td>2.569284</td>\n",
       "    </tr>\n",
       "  </tbody>\n",
       "</table>\n",
       "</div>"
      ],
      "text/plain": [
       "              value\n",
       "dimension          \n",
       "5          1.146479\n",
       "10         1.490624\n",
       "100        2.569284"
      ]
     },
     "execution_count": 42,
     "metadata": {},
     "output_type": "execute_result"
    }
   ],
   "source": [
    "dimensions = [5, 10, 100]\n",
    "\n",
    "N = 1000\n",
    "\n",
    "condition_numbers = {}\n",
    "\n",
    "for dimension in dimensions:\n",
    "    condition_numbers[dimension] = get_cond_nums_ex3(dim = dimension, num_samples = N)\n",
    "    \n",
    "df_cond_nums = pd.DataFrame.from_dict(condition_numbers, orient='index')\n",
    "df_cond_nums[\"dimension\"] = df_cond_nums.index \n",
    "\n",
    "df_cond_nums_melt = pd.melt(df_cond_nums, id_vars= \"dimension\")\n",
    "df_cond_nums_melt.value = np.log10(df_cond_nums_melt.value)\n",
    "\n",
    "df_cond_nums_melt.groupby(\"dimension\").agg(np.median)"
   ]
  },
  {
   "cell_type": "markdown",
   "metadata": {},
   "source": [
    "# Exercise 3a"
   ]
  },
  {
   "cell_type": "code",
   "execution_count": 43,
   "metadata": {
    "collapsed": true
   },
   "outputs": [],
   "source": [
    "def get_cond_nums_ex3a(dim, num_samples, sig = .1):\n",
    "    d = dim\n",
    "    N = num_samples\n",
    "    cond_nums = np.zeros(N)\n",
    "    for i in range(N):\n",
    "        A = np.random.randn(100,d)\n",
    "        _,s,_ = np.linalg.svd(A)\n",
    "        cond_num = s[0]/s[-1]\n",
    "        #cond_num = np.max(s)/np.min(s)\n",
    "        cond_nums[i] = cond_num\n",
    "        \n",
    "    return cond_nums"
   ]
  },
  {
   "cell_type": "code",
   "execution_count": 44,
   "metadata": {},
   "outputs": [
    {
     "data": {
      "text/html": [
       "<div>\n",
       "<style>\n",
       "    .dataframe thead tr:only-child th {\n",
       "        text-align: right;\n",
       "    }\n",
       "\n",
       "    .dataframe thead th {\n",
       "        text-align: left;\n",
       "    }\n",
       "\n",
       "    .dataframe tbody tr th {\n",
       "        vertical-align: top;\n",
       "    }\n",
       "</style>\n",
       "<table border=\"1\" class=\"dataframe\">\n",
       "  <thead>\n",
       "    <tr style=\"text-align: right;\">\n",
       "      <th></th>\n",
       "      <th>value</th>\n",
       "    </tr>\n",
       "    <tr>\n",
       "      <th>dimension</th>\n",
       "      <th></th>\n",
       "    </tr>\n",
       "  </thead>\n",
       "  <tbody>\n",
       "    <tr>\n",
       "      <th>100</th>\n",
       "      <td>2.566085</td>\n",
       "    </tr>\n",
       "    <tr>\n",
       "      <th>110</th>\n",
       "      <td>1.525007</td>\n",
       "    </tr>\n",
       "    <tr>\n",
       "      <th>140</th>\n",
       "      <td>1.032442</td>\n",
       "    </tr>\n",
       "    <tr>\n",
       "      <th>190</th>\n",
       "      <td>0.768039</td>\n",
       "    </tr>\n",
       "    <tr>\n",
       "      <th>200</th>\n",
       "      <td>0.737246</td>\n",
       "    </tr>\n",
       "  </tbody>\n",
       "</table>\n",
       "</div>"
      ],
      "text/plain": [
       "              value\n",
       "dimension          \n",
       "100        2.566085\n",
       "110        1.525007\n",
       "140        1.032442\n",
       "190        0.768039\n",
       "200        0.737246"
      ]
     },
     "execution_count": 44,
     "metadata": {},
     "output_type": "execute_result"
    }
   ],
   "source": [
    "dimensions = [100, 110, 140, 190,200]\n",
    "\n",
    "N = 1000\n",
    "\n",
    "condition_numbers = {}\n",
    "\n",
    "for dimension in dimensions:\n",
    "    condition_numbers[dimension] = get_cond_nums_ex3a(dim = dimension, num_samples = N)\n",
    "    \n",
    "df_cond_nums = pd.DataFrame.from_dict(condition_numbers, orient='index')\n",
    "df_cond_nums[\"dimension\"] = df_cond_nums.index \n",
    "\n",
    "df_cond_nums_melt = pd.melt(df_cond_nums, id_vars= \"dimension\")\n",
    "df_cond_nums_melt.value = np.log10(df_cond_nums_melt.value)\n",
    "\n",
    "df_cond_nums_melt.groupby(\"dimension\").agg(np.median)"
   ]
  },
  {
   "cell_type": "markdown",
   "metadata": {},
   "source": [
    "# Exercise 3b"
   ]
  },
  {
   "cell_type": "code",
   "execution_count": 45,
   "metadata": {
    "collapsed": true
   },
   "outputs": [],
   "source": [
    "def get_cond_nums_ex3b(dim, num_samples, sig = .1):\n",
    "    d = dim\n",
    "    N = num_samples\n",
    "    cond_nums = np.zeros(N)\n",
    "    for i in range(N):\n",
    "        A = np.random.randn(d,d)\n",
    "        B = np.hstack((A,A + sig*np.random.randn(d,d)))\n",
    "        _,s,_ = np.linalg.svd(B)\n",
    "        cond_num = s[0]/s[-1]\n",
    "        cond_nums[i] = cond_num\n",
    "        \n",
    "    return cond_nums"
   ]
  },
  {
   "cell_type": "code",
   "execution_count": 46,
   "metadata": {},
   "outputs": [
    {
     "data": {
      "text/html": [
       "<div>\n",
       "<style>\n",
       "    .dataframe thead tr:only-child th {\n",
       "        text-align: right;\n",
       "    }\n",
       "\n",
       "    .dataframe thead th {\n",
       "        text-align: left;\n",
       "    }\n",
       "\n",
       "    .dataframe tbody tr th {\n",
       "        vertical-align: top;\n",
       "    }\n",
       "</style>\n",
       "<table border=\"1\" class=\"dataframe\">\n",
       "  <thead>\n",
       "    <tr style=\"text-align: right;\">\n",
       "      <th></th>\n",
       "      <th>value</th>\n",
       "    </tr>\n",
       "    <tr>\n",
       "      <th>dimension</th>\n",
       "      <th></th>\n",
       "    </tr>\n",
       "  </thead>\n",
       "  <tbody>\n",
       "    <tr>\n",
       "      <th>5</th>\n",
       "      <td>1.105872</td>\n",
       "    </tr>\n",
       "    <tr>\n",
       "      <th>10</th>\n",
       "      <td>1.367459</td>\n",
       "    </tr>\n",
       "    <tr>\n",
       "      <th>100</th>\n",
       "      <td>1.616891</td>\n",
       "    </tr>\n",
       "  </tbody>\n",
       "</table>\n",
       "</div>"
      ],
      "text/plain": [
       "              value\n",
       "dimension          \n",
       "5          1.105872\n",
       "10         1.367459\n",
       "100        1.616891"
      ]
     },
     "execution_count": 46,
     "metadata": {},
     "output_type": "execute_result"
    }
   ],
   "source": [
    "dimensions = [5, 10, 100]\n",
    "\n",
    "N = 1000\n",
    "\n",
    "condition_numbers = {}\n",
    "\n",
    "for dimension in dimensions:\n",
    "    condition_numbers[dimension] = get_cond_nums_ex3b(dim = dimension, num_samples = N)\n",
    "    \n",
    "df_cond_nums = pd.DataFrame.from_dict(condition_numbers, orient='index')\n",
    "df_cond_nums[\"dimension\"] = df_cond_nums.index \n",
    "\n",
    "df_cond_nums_melt = pd.melt(df_cond_nums, id_vars= \"dimension\")\n",
    "df_cond_nums_melt.value = np.log10(df_cond_nums_melt.value)\n",
    "\n",
    "df_cond_nums_melt.groupby(\"dimension\").agg(np.median)"
   ]
  },
  {
   "cell_type": "markdown",
   "metadata": {},
   "source": [
    "## Exercise 4\n",
    "\n",
    "Repeat exercise 2 for the 100-by-100 matrix but apply a smoothing function to each row for each of the matrices you generated. The smoothing function can be a simple \"moving average window\" filter."
   ]
  },
  {
   "cell_type": "code",
   "execution_count": 47,
   "metadata": {},
   "outputs": [
    {
     "data": {
      "image/png": "[encoded data removed]",
      "text/plain": [
       "<matplotlib.figure.Figure at 0x2bd5a911cc0>"
      ]
     },
     "metadata": {},
     "output_type": "display_data"
    }
   ],
   "source": [
    "from scipy.linalg import toeplitz\n",
    "\n",
    "\n",
    "def get_correlated_matrix(d, window_length):\n",
    "    first_row = np.hstack((np.ones(window_length), np.zeros(d - window_length)))\n",
    "    first_col = np.zeros(d)\n",
    "    first_col[0] = 1\n",
    "\n",
    "    moving_avg = 1./window_length * toeplitz(first_col, first_row)\n",
    "\n",
    "    matrix_rows = np.zeros((d,d))\n",
    "    for i in range(d):\n",
    "        x = np.random.randn(d,1)\n",
    "        matrix_rows[i,:] = np.dot(moving_avg, x).T\n",
    "\n",
    "    return matrix_rows\n",
    "\n",
    "N = 1000\n",
    "cond_nums = np.zeros(N)\n",
    "window_length = 5\n",
    "for i in range(N):\n",
    "    A = get_correlated_matrix(100, window_length)\n",
    "    _,s,_ = np.linalg.svd(A)\n",
    "    cond_num = s[0]/s[-1]\n",
    "    cond_nums[i] = cond_num\n",
    "plt.hist(np.log10(cond_nums), bins=100);"
   ]
  },
  {
   "cell_type": "code",
   "execution_count": 48,
   "metadata": {},
   "outputs": [
    {
     "data": {
      "text/plain": [
       "3.8355979911429703"
      ]
     },
     "execution_count": 48,
     "metadata": {},
     "output_type": "execute_result"
    }
   ],
   "source": [
    "np.mean(np.log10(cond_nums))"
   ]
  },
  {
   "cell_type": "markdown",
   "metadata": {},
   "source": [
    "# AirBnB  OLS"
   ]
  },
  {
   "cell_type": "code",
   "execution_count": 49,
   "metadata": {
    "collapsed": true
   },
   "outputs": [],
   "source": [
    "df = pd.read_csv(\"./data/sd-airbnb-listings.csv\")\n",
    "df[\"price\"] = df[\"price\"].replace( '[\\$,)]','', regex=True).astype(float)"
   ]
  },
  {
   "cell_type": "code",
   "execution_count": 50,
   "metadata": {
    "collapsed": true
   },
   "outputs": [],
   "source": [
    "df_mini = df[['review_scores_rating',\n",
    "       u'review_scores_accuracy', u'review_scores_cleanliness',\n",
    "       u'review_scores_checkin', u'review_scores_communication',\n",
    "       u'review_scores_location', u'review_scores_value', 'square_feet', 'price']]\n",
    "\n",
    "df_clean= df_mini.dropna()"
   ]
  },
  {
   "cell_type": "code",
   "execution_count": 51,
   "metadata": {},
   "outputs": [
    {
     "data": {
      "text/plain": [
       "(94, 9)"
      ]
     },
     "execution_count": 51,
     "metadata": {},
     "output_type": "execute_result"
    }
   ],
   "source": [
    "df_clean.shape"
   ]
  },
  {
   "cell_type": "code",
   "execution_count": 52,
   "metadata": {},
   "outputs": [
    {
     "data": {
      "image/png": "[encoded data removed]",
      "text/plain": [
       "<matplotlib.figure.Figure at 0x2bd5dfd31d0>"
      ]
     },
     "metadata": {},
     "output_type": "display_data"
    }
   ],
   "source": [
    "y = np.array(df_clean.price)\n",
    "A = np.array(df_clean.iloc[:,:-1])\n",
    "\n",
    "weights = np.dot(np.linalg.pinv(A),np.log10(y))  # calculatioin in log scale - np.log10(y)\n",
    "\n",
    "y_hat = np.dot(A,weights)\n",
    "\n",
    "plt.plot(range(y_hat.shape[0]), np.abs(10**y_hat - y), '.');"
   ]
  },
  {
   "cell_type": "code",
   "execution_count": 53,
   "metadata": {},
   "outputs": [
    {
     "data": {
      "text/plain": [
       "(94, 8)"
      ]
     },
     "execution_count": 53,
     "metadata": {},
     "output_type": "execute_result"
    }
   ],
   "source": [
    "A.shape"
   ]
  },
  {
   "cell_type": "code",
   "execution_count": 54,
   "metadata": {},
   "outputs": [
    {
     "data": {
      "text/plain": [
       "(130.19225666076875, 63.822644896885912)"
      ]
     },
     "execution_count": 54,
     "metadata": {},
     "output_type": "execute_result"
    }
   ],
   "source": [
    "# this is mean error value.\n",
    "np.mean(np.abs(10**y_hat - y)), np.median(np.abs(10**y_hat - y))"
   ]
  },
  {
   "cell_type": "code",
   "execution_count": 55,
   "metadata": {},
   "outputs": [
    {
     "data": {
      "text/plain": [
       "[<matplotlib.lines.Line2D at 0x2bd5913c3c8>]"
      ]
     },
     "execution_count": 55,
     "metadata": {},
     "output_type": "execute_result"
    },
    {
     "data": {
      "image/png": "[encoded data removed]",
      "text/plain": [
       "<matplotlib.figure.Figure at 0x2bd5a92fcf8>"
      ]
     },
     "metadata": {},
     "output_type": "display_data"
    }
   ],
   "source": [
    "plt.plot(weights)"
   ]
  },
  {
   "cell_type": "code",
   "execution_count": 56,
   "metadata": {},
   "outputs": [
    {
     "data": {
      "text/plain": [
       "179       0.0\n",
       "229    1300.0\n",
       "254    1600.0\n",
       "303     144.0\n",
       "404    1500.0\n",
       "454       0.0\n",
       "469      12.0\n",
       "561       0.0\n",
       "596      50.0\n",
       "724       1.0\n",
       "Name: square_feet, dtype: float64"
      ]
     },
     "execution_count": 56,
     "metadata": {},
     "output_type": "execute_result"
    }
   ],
   "source": [
    "df_clean.square_feet[:10]"
   ]
  },
  {
   "cell_type": "code",
   "execution_count": 57,
   "metadata": {},
   "outputs": [
    {
     "name": "stderr",
     "output_type": "stream",
     "text": [
      "C:\\Anaconda4\\lib\\site-packages\\pandas\\core\\generic.py:2999: SettingWithCopyWarning: \n",
      "A value is trying to be set on a copy of a slice from a DataFrame.\n",
      "Try using .loc[row_indexer,col_indexer] = value instead\n",
      "\n",
      "See the caveats in the documentation: http://pandas.pydata.org/pandas-docs/stable/indexing.html#indexing-view-versus-copy\n",
      "  self[name] = value\n"
     ]
    }
   ],
   "source": [
    "df_clean.square_feet = np.log10(1+df_clean.square_feet)"
   ]
  },
  {
   "cell_type": "code",
   "execution_count": 58,
   "metadata": {},
   "outputs": [
    {
     "data": {
      "text/plain": [
       "179    0.000000\n",
       "229    3.114277\n",
       "254    3.204391\n",
       "303    2.161368\n",
       "404    3.176381\n",
       "454    0.000000\n",
       "469    1.113943\n",
       "561    0.000000\n",
       "596    1.707570\n",
       "724    0.301030\n",
       "Name: square_feet, dtype: float64"
      ]
     },
     "execution_count": 58,
     "metadata": {},
     "output_type": "execute_result"
    }
   ],
   "source": [
    "df_clean.square_feet[:10]"
   ]
  },
  {
   "cell_type": "code",
   "execution_count": 59,
   "metadata": {},
   "outputs": [
    {
     "data": {
      "text/plain": [
       "array(['review_scores_rating', 'review_scores_accuracy',\n",
       "       'review_scores_cleanliness', 'review_scores_checkin',\n",
       "       'review_scores_communication', 'review_scores_location',\n",
       "       'review_scores_value', 'square_feet', 'price'], dtype=object)"
      ]
     },
     "execution_count": 59,
     "metadata": {},
     "output_type": "execute_result"
    }
   ],
   "source": [
    "df_clean.columns.values"
   ]
  },
  {
   "cell_type": "code",
   "execution_count": 60,
   "metadata": {},
   "outputs": [
    {
     "data": {
      "text/plain": [
       "(126.04129468689048, 56.298933236618453)"
      ]
     },
     "execution_count": 60,
     "metadata": {},
     "output_type": "execute_result"
    }
   ],
   "source": [
    "y = np.array(df_clean.price)\n",
    "A = np.array(df_clean.iloc[:,:-1])\n",
    "\n",
    "weights = np.dot(np.linalg.pinv(A),np.log10(y))\n",
    "\n",
    "y_hat = np.dot(A,weights)\n",
    "\n",
    "np.mean(np.abs(10**y_hat - y)), np.median(np.abs(10**y_hat - y))"
   ]
  },
  {
   "cell_type": "code",
   "execution_count": 61,
   "metadata": {},
   "outputs": [
    {
     "data": {
      "text/plain": [
       "[<matplotlib.lines.Line2D at 0x2bd5a91bc50>]"
      ]
     },
     "execution_count": 61,
     "metadata": {},
     "output_type": "execute_result"
    },
    {
     "data": {
      "image/png": "[encoded data removed]",
      "text/plain": [
       "<matplotlib.figure.Figure at 0x2bd590dce10>"
      ]
     },
     "metadata": {},
     "output_type": "display_data"
    }
   ],
   "source": [
    "plt.plot(weights)"
   ]
  },
  {
   "cell_type": "code",
   "execution_count": 62,
   "metadata": {
    "collapsed": true
   },
   "outputs": [],
   "source": [
    "means = np.mean(A, axis = 0)"
   ]
  },
  {
   "cell_type": "code",
   "execution_count": 63,
   "metadata": {},
   "outputs": [
    {
     "data": {
      "text/plain": [
       "(8,)"
      ]
     },
     "execution_count": 63,
     "metadata": {},
     "output_type": "execute_result"
    }
   ],
   "source": [
    "means.shape"
   ]
  },
  {
   "cell_type": "code",
   "execution_count": 64,
   "metadata": {
    "collapsed": true
   },
   "outputs": [],
   "source": [
    "A_centered = A - means"
   ]
  },
  {
   "cell_type": "code",
   "execution_count": 65,
   "metadata": {},
   "outputs": [
    {
     "data": {
      "text/plain": [
       "array([[ 89.,   9.,   9.,  10.,  10.],\n",
       "       [ 96.,  10.,  10.,  10.,  10.],\n",
       "       [ 99.,  10.,  10.,  10.,  10.],\n",
       "       [ 95.,  10.,   9.,  10.,  10.]])"
      ]
     },
     "execution_count": 65,
     "metadata": {},
     "output_type": "execute_result"
    }
   ],
   "source": [
    "A[:4,:5]"
   ]
  },
  {
   "cell_type": "code",
   "execution_count": 66,
   "metadata": {},
   "outputs": [
    {
     "data": {
      "text/plain": [
       "array([ 94.54255319,   9.56382979,   9.42553191,   9.76595745,\n",
       "         9.78723404,   9.55319149,   9.40425532,   2.58784561])"
      ]
     },
     "execution_count": 66,
     "metadata": {},
     "output_type": "execute_result"
    }
   ],
   "source": [
    "means"
   ]
  },
  {
   "cell_type": "code",
   "execution_count": 67,
   "metadata": {},
   "outputs": [
    {
     "data": {
      "text/plain": [
       "array([[-5.54255319, -0.56382979, -0.42553191,  0.23404255,  0.21276596],\n",
       "       [ 1.45744681,  0.43617021,  0.57446809,  0.23404255,  0.21276596],\n",
       "       [ 4.45744681,  0.43617021,  0.57446809,  0.23404255,  0.21276596],\n",
       "       [ 0.45744681,  0.43617021, -0.42553191,  0.23404255,  0.21276596]])"
      ]
     },
     "execution_count": 67,
     "metadata": {},
     "output_type": "execute_result"
    }
   ],
   "source": [
    "A_centered[:4,:5]"
   ]
  },
  {
   "cell_type": "code",
   "execution_count": 68,
   "metadata": {},
   "outputs": [
    {
     "data": {
      "text/plain": [
       "(123.92894791645294, 58.94454919951081)"
      ]
     },
     "execution_count": 68,
     "metadata": {},
     "output_type": "execute_result"
    }
   ],
   "source": [
    "A_ones = np.hstack((np.ones((df_clean.shape[0],1)), A_centered))\n",
    "\n",
    "weights = np.dot(np.linalg.pinv(A_ones),np.log10(y))\n",
    "\n",
    "y_hat = np.dot(A_ones,weights)\n",
    "\n",
    "np.mean(np.abs(10**y_hat - y)), np.median(np.abs(10**y_hat - y))"
   ]
  },
  {
   "cell_type": "code",
   "execution_count": 69,
   "metadata": {},
   "outputs": [
    {
     "data": {
      "text/plain": [
       "array([[ 1.        , -5.54255319, -0.56382979, -0.42553191,  0.23404255],\n",
       "       [ 1.        ,  1.45744681,  0.43617021,  0.57446809,  0.23404255],\n",
       "       [ 1.        ,  4.45744681,  0.43617021,  0.57446809,  0.23404255],\n",
       "       [ 1.        ,  0.45744681,  0.43617021, -0.42553191,  0.23404255]])"
      ]
     },
     "execution_count": 69,
     "metadata": {},
     "output_type": "execute_result"
    }
   ],
   "source": [
    "A_ones[:4,:5]"
   ]
  },
  {
   "cell_type": "markdown",
   "metadata": {},
   "source": [
    "## Bootstrapped error estimation"
   ]
  },
  {
   "cell_type": "code",
   "execution_count": 70,
   "metadata": {
    "collapsed": true
   },
   "outputs": [],
   "source": [
    "indx = np.random.randint(0, A_ones.shape[0], size = A_ones.shape[0])"
   ]
  },
  {
   "cell_type": "code",
   "execution_count": 71,
   "metadata": {},
   "outputs": [
    {
     "data": {
      "text/plain": [
       "(94,)"
      ]
     },
     "execution_count": 71,
     "metadata": {},
     "output_type": "execute_result"
    }
   ],
   "source": [
    "indx.shape"
   ]
  },
  {
   "cell_type": "code",
   "execution_count": 72,
   "metadata": {},
   "outputs": [
    {
     "data": {
      "text/plain": [
       "(94, 9)"
      ]
     },
     "execution_count": 72,
     "metadata": {},
     "output_type": "execute_result"
    }
   ],
   "source": [
    "A_ones[indx,:].shape"
   ]
  },
  {
   "cell_type": "code",
   "execution_count": 73,
   "metadata": {
    "collapsed": true
   },
   "outputs": [],
   "source": [
    "def get_weights():\n",
    "    # can below row move out of the function? Otherwise, this is repeated for each call. \n",
    "    A_ones = np.hstack((np.ones((df_clean.shape[0],1)), A_centered))\n",
    "    \n",
    "    indx = np.random.randint(0, A_ones.shape[0], size = A_ones.shape[0])    \n",
    "    A_ones_samples = A_ones[indx,:]\n",
    "\n",
    "    weights = np.dot(np.linalg.pinv(A_ones_samples),np.log10(y))\n",
    "    \n",
    "    y_hat = np.dot(A_ones,weights)\n",
    "\n",
    "    return np.mean(np.abs(10**y_hat - y)), weights"
   ]
  },
  {
   "cell_type": "code",
   "execution_count": 74,
   "metadata": {
    "collapsed": true
   },
   "outputs": [],
   "source": [
    "mae, sampled_weights = get_weights()"
   ]
  },
  {
   "cell_type": "code",
   "execution_count": 75,
   "metadata": {
    "collapsed": true
   },
   "outputs": [],
   "source": [
    "maes = np.zeros((100,1))\n",
    "sampled_weights = np.zeros((100, weights.shape[0]))\n",
    "\n",
    "for i in range(100):\n",
    "    maes[i], sampled_weights[i,:] = get_weights()"
   ]
  },
  {
   "cell_type": "code",
   "execution_count": 76,
   "metadata": {},
   "outputs": [
    {
     "data": {
      "text/plain": [
       "(100, 9)"
      ]
     },
     "execution_count": 76,
     "metadata": {},
     "output_type": "execute_result"
    }
   ],
   "source": [
    "sampled_weights.shape"
   ]
  },
  {
   "cell_type": "code",
   "execution_count": 77,
   "metadata": {},
   "outputs": [
    {
     "data": {
      "text/plain": [
       "[<matplotlib.lines.Line2D at 0x2bd598a3860>]"
      ]
     },
     "execution_count": 77,
     "metadata": {},
     "output_type": "execute_result"
    },
    {
     "data": {
      "image/png": "[encoded data removed]",
      "text/plain": [
       "<matplotlib.figure.Figure at 0x2bd5aad46d8>"
      ]
     },
     "metadata": {},
     "output_type": "display_data"
    }
   ],
   "source": [
    "plt.plot(maes)"
   ]
  },
  {
   "cell_type": "code",
   "execution_count": 78,
   "metadata": {
    "collapsed": true
   },
   "outputs": [],
   "source": [
    "avg_weights = np.mean(sampled_weights,axis = 0)\n",
    "sd_weights = np.std(sampled_weights, axis=0)"
   ]
  },
  {
   "cell_type": "code",
   "execution_count": 79,
   "metadata": {},
   "outputs": [
    {
     "data": {
      "text/plain": [
       "(9,)"
      ]
     },
     "execution_count": 79,
     "metadata": {},
     "output_type": "execute_result"
    }
   ],
   "source": [
    "avg_weights.shape"
   ]
  },
  {
   "cell_type": "code",
   "execution_count": 80,
   "metadata": {},
   "outputs": [
    {
     "data": {
      "text/plain": [
       "[<matplotlib.lines.Line2D at 0x2bd5aa137f0>]"
      ]
     },
     "execution_count": 80,
     "metadata": {},
     "output_type": "execute_result"
    },
    {
     "data": {
      "image/png": "[encoded data removed]",
      "text/plain": [
       "<matplotlib.figure.Figure at 0x2bd5988f518>"
      ]
     },
     "metadata": {},
     "output_type": "display_data"
    }
   ],
   "source": [
    "plt.plot(sd_weights)"
   ]
  },
  {
   "cell_type": "code",
   "execution_count": 81,
   "metadata": {},
   "outputs": [
    {
     "data": {
      "text/plain": [
       "[<matplotlib.lines.Line2D at 0x2bd598c6978>]"
      ]
     },
     "execution_count": 81,
     "metadata": {},
     "output_type": "execute_result"
    },
    {
     "data": {
      "image/png": "[encoded data removed]",
      "text/plain": [
       "<matplotlib.figure.Figure at 0x2bd5a9cd0f0>"
      ]
     },
     "metadata": {},
     "output_type": "display_data"
    }
   ],
   "source": [
    "plt.plot(avg_weights)"
   ]
  },
  {
   "cell_type": "markdown",
   "metadata": {},
   "source": [
    "## Ridge Regression\n",
    "\n",
    "**Lucas笔记: ** \n",
    "[ridge regression可以用来处理下面两类问题：一是数据点少于变量个数；二是变量间线性相关。](http://blog.sciencenet.cn/blog-54276-375345.html) --- 岭回归是一种专用于共线性数据分析的有偏估计回归方法，实质上是一种改良的最小二乘估计法，通过放弃最小二乘法的无偏性，以损失部分信息、降低精度为代价获得回归系数更为符合实际、更可靠的回归方法，对病态数据的拟合要强于OLS。本质是在自变量信息矩阵的主对角线元素上人为地加入一个非负因子，即：  $(X^{T}X + \\lambda I)$。\n",
    "\n",
    "Having weights to be too large can be undesriable. This yields to one feature having more influence than it should. Ridge regression or \"tikhonov\" regularization\" is a way to deal with this issue\n",
    "\n",
    "$L(\\beta) = (y - X\\beta)^{T}(y - X\\beta) + \\lambda ||\\beta||_{2}^{2}$\n",
    "\n",
    "$\\beta = (X^{T}X + \\lambda I)^{+}X^{T}y$"
   ]
  },
  {
   "cell_type": "markdown",
   "metadata": {},
   "source": [
    "Note: 下图中 OLS = ordinary least squares (普通最小二乘法) "
   ]
  },
  {
   "cell_type": "code",
   "execution_count": 82,
   "metadata": {
    "scrolled": true
   },
   "outputs": [
    {
     "data": {
      "text/html": [
       "<img src=\"./imgs/lecture-4/ridge_regression_geomteric.png\" alt=\"Drawing\" style=\"width: 350px;\"/, align = \"left\">"
      ],
      "text/plain": [
       "<IPython.core.display.HTML object>"
      ]
     },
     "metadata": {},
     "output_type": "display_data"
    }
   ],
   "source": [
    "display(HTML('''<img src=\"./imgs/lecture-4/ridge_regression_geomteric.png\" alt=\"Drawing\" style=\"width: 350px;\"/, align = \"left\">'''))"
   ]
  },
  {
   "cell_type": "markdown",
   "metadata": {},
   "source": [
    "## Airbnb Ridge Regression\n",
    "**Lucas笔记：**因为线性相关，所以适合Ridge Regression. 参考前面笔记"
   ]
  },
  {
   "cell_type": "code",
   "execution_count": 83,
   "metadata": {},
   "outputs": [
    {
     "data": {
      "text/plain": [
       "400.0"
      ]
     },
     "execution_count": 83,
     "metadata": {},
     "output_type": "execute_result"
    }
   ],
   "source": [
    "40e1"
   ]
  },
  {
   "cell_type": "code",
   "execution_count": 84,
   "metadata": {},
   "outputs": [
    {
     "data": {
      "text/plain": [
       "[<matplotlib.lines.Line2D at 0x2bd5cba6208>]"
      ]
     },
     "execution_count": 84,
     "metadata": {},
     "output_type": "execute_result"
    },
    {
     "data": {
      "image/png": "[encoded data removed]",
      "text/plain": [
       "<matplotlib.figure.Figure at 0x2bd5aa0d390>"
      ]
     },
     "metadata": {},
     "output_type": "display_data"
    }
   ],
   "source": [
    "tikhnov = np.zeros((9,9))\n",
    "tikhnov[0,0] = 1\n",
    "weights = np.dot(np.dot(np.linalg.inv(np.dot(A_ones.T,A_ones) + 40e1*tikhnov), A_ones.T), np.log10(y))\n",
    "y_hat = np.dot(A_ones,weights)\n",
    "\n",
    "np.mean(np.abs(10**y_hat - y))\n",
    "plt.plot(weights)"
   ]
  },
  {
   "cell_type": "markdown",
   "metadata": {},
   "source": [
    "## Gradient Descent \n",
    "**lucas笔记：** 不用求逆（或伪逆）或正则方程，而用递归的方法求解. 见如下推导："
   ]
  },
  {
   "cell_type": "code",
   "execution_count": 123,
   "metadata": {},
   "outputs": [
    {
     "data": {
      "text/html": [
       "<img src=\"./imgs/lecture-4/delta-rule-gradient-descent.png\" alt=\"Drawing\" style=\"width: 700px;\"/, align = \"left\">"
      ],
      "text/plain": [
       "<IPython.core.display.HTML object>"
      ]
     },
     "metadata": {},
     "output_type": "display_data"
    }
   ],
   "source": [
    "display(HTML('''<img src=\"./imgs/lecture-4/delta-rule-gradient-descent.png\" alt=\"Drawing\" style=\"width: 700px;\"/, align = \"left\">'''))"
   ]
  },
  {
   "cell_type": "code",
   "execution_count": 85,
   "metadata": {},
   "outputs": [
    {
     "data": {
      "text/plain": [
       "[<matplotlib.lines.Line2D at 0x2bd5cc270b8>]"
      ]
     },
     "execution_count": 85,
     "metadata": {},
     "output_type": "execute_result"
    },
    {
     "data": {
      "image/png": "[encoded data removed]",
      "text/plain": [
       "<matplotlib.figure.Figure at 0x2bd597109e8>"
      ]
     },
     "metadata": {},
     "output_type": "display_data"
    }
   ],
   "source": [
    "N = 500 # total number of data points\n",
    "x = np.linspace(start = -3, stop = 3, num = N)\n",
    "y_orig =  3.3 -1.1*x \n",
    "## Add white noise\n",
    "y =  y_orig + 1*np.random.randn(N)\n",
    "plt.plot(x, y, '.')"
   ]
  },
  {
   "cell_type": "code",
   "execution_count": 86,
   "metadata": {
    "collapsed": true
   },
   "outputs": [],
   "source": [
    "from sklearn.model_selection import train_test_split\n",
    "X_train, X_test, y_train, y_test = train_test_split(x, y, test_size=0.33, random_state=42)\n"
   ]
  },
  {
   "cell_type": "code",
   "execution_count": 87,
   "metadata": {},
   "outputs": [
    {
     "data": {
      "text/plain": [
       "((500,), (335,), (165,))"
      ]
     },
     "execution_count": 87,
     "metadata": {},
     "output_type": "execute_result"
    }
   ],
   "source": [
    "x.shape, X_train.shape, X_test.shape"
   ]
  },
  {
   "cell_type": "code",
   "execution_count": 88,
   "metadata": {},
   "outputs": [
    {
     "data": {
      "text/plain": [
       "((224,), (111,))"
      ]
     },
     "execution_count": 88,
     "metadata": {},
     "output_type": "execute_result"
    }
   ],
   "source": [
    "X_train, X_val, y_train, y_val = train_test_split(X_train, y_train, test_size=0.33, random_state=42)\n",
    "X_train.shape, X_val.shape"
   ]
  },
  {
   "cell_type": "code",
   "execution_count": 89,
   "metadata": {},
   "outputs": [
    {
     "data": {
      "text/plain": [
       "[<matplotlib.lines.Line2D at 0x2bd5d69fc50>]"
      ]
     },
     "execution_count": 89,
     "metadata": {},
     "output_type": "execute_result"
    },
    {
     "data": {
      "image/png": "[encoded data removed]",
      "text/plain": [
       "<matplotlib.figure.Figure at 0x2bd5d62a4e0>"
      ]
     },
     "metadata": {},
     "output_type": "display_data"
    }
   ],
   "source": [
    "plt.plot(X_train, y_train, 'g.')\n",
    "plt.plot(X_val, y_val, 'r.')\n",
    "plt.plot(X_test, y_test, 'b.')"
   ]
  },
  {
   "cell_type": "code",
   "execution_count": 113,
   "metadata": {},
   "outputs": [
    {
     "data": {
      "text/plain": [
       "[<matplotlib.lines.Line2D at 0x2bd5f4cbb00>]"
      ]
     },
     "execution_count": 113,
     "metadata": {},
     "output_type": "execute_result"
    },
    {
     "data": {
      "image/png": "[encoded data removed]",
      "text/plain": [
       "<matplotlib.figure.Figure at 0x2bd5d62a320>"
      ]
     },
     "metadata": {},
     "output_type": "display_data"
    }
   ],
   "source": [
    "# this example just use random value for weight to calculate the loss based on train data. If loss decreased, then use it. \n",
    "# no direction used (like Gradient descent), not optimal.\n",
    "w = np.random.randn(2,1)\n",
    "\n",
    "num_iter = 1000\n",
    "weights = []\n",
    "weights.append(w)\n",
    "\n",
    "\n",
    "def mse(w, X, y):\n",
    "    return np.sum((y - w[0,0]-w[1,0]*X)**2)\n",
    "\n",
    "loss = mse(w, X_train[:,np.newaxis], y_train)\n",
    "losses = []\n",
    "losses.append(loss)\n",
    "for i in range(num_iter):\n",
    "    w_new = w + .01*np.random.randn(2,1)\n",
    "    new_loss = mse(w_new, X_train[:,np.newaxis], y_train)\n",
    "    if new_loss < loss:\n",
    "        loss = new_loss\n",
    "        w = w_new\n",
    "        weights.append(w)\n",
    "        losses.append(loss)\n",
    "        \n",
    "weights = np.array(weights).squeeze()\n",
    "plt.plot(losses)\n"
   ]
  },
  {
   "cell_type": "code",
   "execution_count": 116,
   "metadata": {},
   "outputs": [
    {
     "data": {
      "text/plain": [
       "((498, 2), 227676.45862275208)"
      ]
     },
     "execution_count": 116,
     "metadata": {},
     "output_type": "execute_result"
    }
   ],
   "source": [
    "weights.shape, losses[-1]"
   ]
  },
  {
   "cell_type": "code",
   "execution_count": 117,
   "metadata": {},
   "outputs": [
    {
     "data": {
      "text/plain": [
       "[<matplotlib.lines.Line2D at 0x2bd5f654240>]"
      ]
     },
     "execution_count": 117,
     "metadata": {},
     "output_type": "execute_result"
    },
    {
     "data": {
      "image/png": "[encoded data removed]",
      "text/plain": [
       "<matplotlib.figure.Figure at 0x2bd5d6b2710>"
      ]
     },
     "metadata": {},
     "output_type": "display_data"
    }
   ],
   "source": [
    "def loss_func(w0, w1, X, y):\n",
    "    losses = 0\n",
    "    for i in range(X.shape[0]):\n",
    "        losses += (w0 + X[i]*w1 - y[i])**2\n",
    "    return losses\n",
    " \n",
    "w0 = np.arange(-10.0,10.0,0.1)\n",
    "w1 = np.arange(-10.0,10.0,0.1)\n",
    "W0,W1 = plt.meshgrid(w0, w1)\n",
    "Z = loss_func(W0, W1, X_test, y_test)\n",
    "plt.contour(W0, W1, Z, levels = np.logspace(0, 8, 20))\n",
    "plt.plot(weights[:,0], weights[:,1], 'b.', markersize=5)\n",
    "plt.plot(weights[-1,0], weights[-1,1], 'r*', markersize=15)"
   ]
  },
  {
   "cell_type": "code",
   "execution_count": 134,
   "metadata": {},
   "outputs": [
    {
     "name": "stdout",
     "output_type": "stream",
     "text": [
      "[[ 0.00135612]\n",
      " [-0.01226275]]\n",
      "[[ 2.35661546]\n",
      " [-1.06255864]]\n"
     ]
    },
    {
     "data": {
      "text/plain": [
       "[<matplotlib.lines.Line2D at 0x2bd5fbc7240>]"
      ]
     },
     "execution_count": 134,
     "metadata": {},
     "output_type": "execute_result"
    },
    {
     "data": {
      "image/png": "[encoded data removed]",
      "text/plain": [
       "<matplotlib.figure.Figure at 0x2bd5f7c4128>"
      ]
     },
     "metadata": {},
     "output_type": "display_data"
    }
   ],
   "source": [
    "X_hat_train = np.hstack((np.ones((X_train.shape[0],1)), X_train[:,np.newaxis]))\n",
    "X_hat_val = np.hstack((np.ones((X_val.shape[0],1)), X_val[:,np.newaxis]))\n",
    "w = 0.01*np.random.randn(2,1)\n",
    "print(w)\n",
    "alpha = 1e-2\n",
    "train_error = []\n",
    "validation_error = []\n",
    "for i in range(1000):    \n",
    "    y_hat_train = np.dot(X_hat_train, w)\n",
    "    train_error.append(np.mean(np.abs(y_hat_train - y_train)))\n",
    "    \n",
    "    y_hat_val = np.dot(X_hat_val, w)\n",
    "    validation_error.append(np.mean(np.abs(y_hat_val - y_val)))\n",
    "\n",
    "    \n",
    "    # delta rule. \n",
    "    w = w + (alpha/X_hat_train.shape[0])*(np.dot(X_hat_train.T, y_train[:,np.newaxis] - y_hat_train))\n",
    "    \n",
    "    \n",
    "\n",
    "    if len(train_error) > 5:\n",
    "        if np.abs(train_error[-1] - train_error[-2]) < 1e-2:\n",
    "            alpha = .99*alpha\n",
    "\n",
    "print(w)\n",
    "plt.figure(figsize=(16, 4))\n",
    "plt.subplot(1,2,1)\n",
    "plt.plot(train_error)\n",
    "plt.subplot(1,2,2)\n",
    "plt.plot(validation_error)"
   ]
  },
  {
   "cell_type": "markdown",
   "metadata": {},
   "source": [
    "# Probability\n",
    "\n",
    "You can think of a prograbability as a type of function that can take any input that can be described as sets (which is a very large class of inputs) and outputs a positive number between 0 and 1. There are some other special constraints for this function (such as the probability function must map the empty set to 0 and all elements in the set to 1), but the general gist is that a probability can be thought of us just another type of function with some special properties. \n",
    "\n",
    "More formally, the ingredients and nomenclature we use for the input types are: \n",
    "\n",
    "-  **Sample space** $\\Omega$: The set of all outcomes we may encounter in the world. For example, if we are interested in a world that only consists of coin tosses, then we can write $\\Omega = \\{Heads, Tails\\}$. Each outcome $\\omega \\in \\Omega$ can be thought one particular type of outcome that we may encouter. For example, $\\omega = \\{Heads\\}$. \n",
    "-  **Set of events** (or **event space**) or just **events** $\\mathcal{F}$: A set whose elements $A \\in \\mathcal{F}$ are subsets of $\\Omega$ (i.e., $A \\in \\Omega$ is a collection of possible outcomes of an experiment). For example, in a dice exeperiment $A = \\{1,3,5\\}$ is the event of odd-numbered outcomes. \n",
    "\n",
    "\n",
    "The probability function that maps the sets into real numbers must satisfy the following\n",
    "\n",
    "- **Probability measure**: A function $P:\\mathcal{F} \\rightarrow \\mathbb{R}$ that satisfies the following properties:\n",
    "    - $P\\left(A\\right) \\geq 0$, for all $A \\in \\mathcal{F}$\n",
    "    - $P\\left(\\Omega\\right) = 1$ (the probability of everything is 1)\n",
    "    - $P\\left(\\emptyset\\right) = 0$ (probability of the empty set is 0)\n",
    "    - If $A_1,A_2,\\dots$ are disjoint events (i.e., $A_i \\cap A_j = \\emptyset$ whenever $i \\neq j$), then:\n",
    "\n",
    "<center>$P\\left(\\cup_{i}A_{i}\\right) = \\sum_{i}{P\\left(A_i\\right)}$</center>"
   ]
  },
  {
   "cell_type": "markdown",
   "metadata": {},
   "source": [
    "### Properties\n",
    "\n",
    "\n",
    "- If $A\\subseteq B \\Longrightarrow P\\left(A\\right) \\leq P\\left(B\\right)$\n",
    "    - A event $B$ that is \"bigger\" (contains) event $A$ should have a bigger or equal probability \n",
    "    - In a dice roll, if $B = \\{1,3,5\\}$ and $A = \\{1,3,5\\}$, then $P\\left(A\\right) \\le P\\left(B\\right)$\n",
    "- $P\\left(A \\cup B\\right) = P\\left(A\\right) + P\\left(B\\right) - P\\left(A \\cap B\\right)$\n",
    "    - If $A \\cap B = \\emptyset$ (we say $A$ and $B$ are disjoint or **mutually exclusive**), then $P\\left(A \\cup B\\right) = P\\left(A\\right) + P\\left(B\\right)$\n",
    "- $P\\left(\\Omega \\setminus  A\\right) = 1 - P\\left(A\\right)$\n",
    "    - \"Carving\" out evet $A$ from the universe of possibe outcomes will yield the probability of 1 minus the probability of the $A$\n",
    "- **Law of Total Probability:** if $A_1,\\dots,A_k$ are a set of disjoint events such that $\\cup^{k}_{i=1}A_{i} = \\Omega$, then\n",
    "\n",
    "\n",
    "<center>$\\sum^{k}_{i=1}{P\\left(A_k\\right) = 1}$</center>\n"
   ]
  },
  {
   "cell_type": "markdown",
   "metadata": {},
   "source": [
    "##Conditional probability\n",
    "\n",
    "Often times we know a particular event has happened and want to know how knolwedge of an event happening changes the probabilities of other events. The **conditional** probability of an event $A$ given that an event $B$ has happened: \n",
    "\n",
    "$P\\left(A|B\\right) \\triangleq \\dfrac{P\\left(A \\cap B\\right)}{P\\left(B\\right)}$\n",
    "\n",
    "This is read as \"the probability of $A$ given that $B$ has occured\" or more succinctly as \"the probablity of $A$ given $B$\".\n",
    "\n",
    "One way of thinkng about this is that if we are told that some general thing has happened, what is the probability that a specific thing will happen? \n",
    "\n",
    "So for example, suppose I told you a dice roll was even. Then what is the probability that the the dice roll was a 2? Usually, the probability of getting a 2 is 1/6, but if you are told that the roll was even, then this knowledge helps you narrow the possible outcomes and readjust the probability to 1/3. If you are told that the roll was even, then the probability of getting any odd is 0.\n",
    "\n",
    "Similarly, we could be told something specific has happend, and asked what is the probability of a specific happening. For example, if we are told that a 3 is rolled and what is the probability of an odd, then we know that the outcome for sure will be odd - so the probability of an odd number will be 1.0!! \n",
    "\n",
    "##Bayes' rule\n",
    "\n",
    "It is not difficult to show from the definition of conditional probabilility that:\n",
    "\n",
    "$P\\left(A|B\\right) = \\dfrac{P\\left(B|A\\right)P\\left(A\\right)}{P\\left(B\\right)}$\n",
    "\n",
    "This relation is used so often that it warrants being attributed to the first person to popularize it. One reason Bayes's rule is popular is that conditional probabilities are often easier to calculate than joint events $P\\left(A \\cap B\\right)$. Also, thre are many instances where computing $P\\left(A|B\\right)$ is difficult but $P\\left(B|A\\right)$ is easy. \n",
    "\n",
    "\n",
    "## Independence\n",
    "\n",
    "Sometimes, the probability of an event with knowledge of the conditional does not change it at all. This is when the events $A$ and $B$ do not overlap at all so $P\\left(A \\cap B\\right) = P(A)P(B)$. In that case, we have\n",
    "\n",
    "$P\\left(A|B\\right) = P(A)$\n",
    "\n",
    "And similarly,\n",
    "\n",
    "$P\\left(B|A\\right) = P(B)$\n",
    "\n",
    "This is an extremely important property. For example, consider the experiment where I flip a coin 2 times. Given that the first flip was a head, what is the probability that the second toss is a head? \n",
    "\n",
    "We assume that the coin flips are *independent* and that the probability of the second flip has nothing to do with the first!"
   ]
  },
  {
   "cell_type": "code",
   "execution_count": 58,
   "metadata": {},
   "outputs": [
    {
     "data": {
      "text/html": [
       "<img src=\"./imgs/lecture-4/conditional_a.png\" alt=\"Drawing\" style=\"width: 350px;\"/, align = \"left\">"
      ],
      "text/plain": [
       "<IPython.core.display.HTML object>"
      ]
     },
     "metadata": {},
     "output_type": "display_data"
    }
   ],
   "source": [
    "display(HTML('''<img src=\"./imgs/lecture-4/conditional_a.png\" alt=\"Drawing\" style=\"width: 350px;\"/, align = \"left\">'''))"
   ]
  },
  {
   "cell_type": "code",
   "execution_count": 59,
   "metadata": {},
   "outputs": [
    {
     "data": {
      "text/html": [
       "<img src=\"./imgs/lecture-4/conditional_b.jpg\" alt=\"Drawing\" style=\"width: 300px;\"/, align = \"left\">"
      ],
      "text/plain": [
       "<IPython.core.display.HTML object>"
      ]
     },
     "metadata": {},
     "output_type": "display_data"
    }
   ],
   "source": [
    "display(HTML('''<img src=\"./imgs/lecture-4/conditional_b.jpg\" alt=\"Drawing\" style=\"width: 300px;\"/, align = \"left\">'''))"
   ]
  },
  {
   "cell_type": "markdown",
   "metadata": {},
   "source": [
    "# Random variables\n",
    "\n",
    "Random variables are neither random nor variable: a random variable is a function that maps elements from the sample space to a real numbers. It's helpful to always think of a ranodm variable as just another function that maps data from arbitraty inputs to real numbers. \n",
    "\n",
    "\n",
    "\n",
    "##Discrete random variable##\n",
    "\n",
    "\n",
    "$P\\left(X = k\\right):= P\\left(\\{\\omega: X\\left(\\omega\\right) = k\\}\\right).$\n",
    "\n",
    "Let's break this down a bit. We will start with the right hand side\n",
    "- $\\omega$ is an element from the sample space $\\Omega$.\n",
    "- We have defined a random variable (remember, just a function) $X(\\cdot)$ that maps elements from $\\Omega$ to the reals\n",
    "- Furthermore, we have defined $X(\\cdot)$ in such a way so that $X\\left(\\omega\\right) = k$ with $k \\in \\mathbb{R}$\n",
    "- Because we have defined $X(\\cdot)$, we can say that the probability that event $\\omega$ occurs is $P\\left(\\{\\omega: X\\left(\\omega\\right) = k\\}\\right)$\n",
    "\n",
    "The notation on the right hand side is cumbersome, so we write it as the left hand side. The way we read the left hand side is \"the probability that the random variable $X$ takes on the value $k$.\" We will often be even sloppier and just read the left hand side as \"the probability that $X = k$. It's good to be aware that there is a lot of important detail packed into this equation! These details become important when doing \"Bayesian\" analysis. \n",
    "\n",
    "\n",
    "\n",
    "\n",
    "##Probability mass function (PMF)\n",
    "\n",
    "\n",
    "$p_{X}\\left(x\\right) \\triangleq P\\left(X = x\\right).$\n",
    "\n",
    "- $0 \\leq p_{X}\\left(x\\right) \\leq 1.$\n",
    "- $\\sum_{x \\in V\\,al\\left(X\\right)}p_{X}\\left(x\\right) = 1.$\n",
    "- $\\sum_{x \\in A}p_{X}\\left(x\\right) = P\\left(X \\in A\\right).$\n"
   ]
  },
  {
   "cell_type": "code",
   "execution_count": 60,
   "metadata": {},
   "outputs": [
    {
     "data": {
      "text/html": [
       "<img src=\"./imgs/lecture-4/random-variable.png\" alt=\"Drawing\" style=\"width: 600px;\"/, align = \"left\">"
      ],
      "text/plain": [
       "<IPython.core.display.HTML object>"
      ]
     },
     "metadata": {},
     "output_type": "display_data"
    }
   ],
   "source": [
    "display(HTML('''<img src=\"./imgs/lecture-4/random-variable.png\" alt=\"Drawing\" style=\"width: 600px;\"/, align = \"left\">'''))"
   ]
  },
  {
   "cell_type": "markdown",
   "metadata": {},
   "source": [
    "##Continuous random variable\n",
    "\n",
    "We need not map random variables to single values but a continous set of reals. This is especially useful when the number of elements in our set $\\Omega$ is infinite. \n",
    "\n",
    "$P\\left(a \\leq X \\leq b\\right) := P\\left(\\{\\omega: a\\leq X\\left(\\omega\\right) \\leq b\\}\\right).$\n",
    "\n",
    "## Cumulative distribution formula (CDF)\n",
    "\n",
    "$F_{X}\\left(x\\right) \\triangleq P\\left(X \\leq x\\right).$\n",
    "\n",
    "\n",
    "- $0 \\leq F_X\\left(x\\right)\\leq 1.$\n",
    "- $\\lim_{x\\rightarrow -\\infty} F_{X}\\left(x\\right) = 0.$\n",
    "- $\\lim_{x\\rightarrow \\infty} F_{X}\\left(x\\right) = 1.$\n",
    "- $x \\leq y \\Longrightarrow F_{X}\\left(x\\right) \\leq F_{X}\\left(y\\right).$\n",
    "\n",
    "\n",
    "##Probability Density Function\n",
    "$f_{X}\\left(x\\right) \\triangleq \\dfrac{dF_{X}\\left(x\\right)}{dx}.$\n",
    "\n",
    "$P\\left(x \\leq X \\leq x + \\Delta x\\right) \\approx f_{X}\\left(x\\right)\\Delta x.$\n",
    "\n",
    "\n",
    "\n",
    "- $f_{X}\\left(x\\right) \\geq 0.$\n",
    "- $\\int^{\\infty}_{- \\infty}{f_{X}\\left(x\\right)} = 1.$\n",
    "- $\\int_{x \\in A}{f_{X}\\left(x\\right)dx} = P\\left(X \\in A\\right).$\n"
   ]
  },
  {
   "cell_type": "code",
   "execution_count": 61,
   "metadata": {},
   "outputs": [
    {
     "data": {
      "text/html": [
       "<img src=\"./imgs/lecture-4/cdf-pdf.png\" alt=\"Drawing\" style=\"width: 400px;\"/, align = \"left\">"
      ],
      "text/plain": [
       "<IPython.core.display.HTML object>"
      ]
     },
     "metadata": {},
     "output_type": "display_data"
    }
   ],
   "source": [
    "display(HTML('''<img src=\"./imgs/lecture-4/cdf-pdf.png\" alt=\"Drawing\" style=\"width: 400px;\"/, align = \"left\">'''))"
   ]
  },
  {
   "cell_type": "markdown",
   "metadata": {},
   "source": [
    "# Expectation\n",
    "$E[g\\left(X\\right)] \\triangleq \\sum_{x \\in V\\,al\\left(X\\right)}{g\\left(x\\right)p_{X}\\left(x\\right)}.$\n",
    "\n",
    "$E[g\\left(x\\right)] \\triangleq \\int^{\\infty}_{- \\infty}{g\\left(x\\right)f_{X}\\left(x\\right)dx}.$\n",
    "\n",
    "\n",
    "- $E[a] = a$ for any constant $a \\in \\mathbb{R}$.\n",
    "- $E[af\\left(X\\right)] = aE[f\\left(X\\right)]$ for any constant $a \\in \\mathbb{R}$.\n",
    "- (Linearity of Expectation) $E[f\\left(X\\right) + g\\left(X\\right)] = E[f\\left(X\\right)] + E[g\\left(X\\right)]$.\n",
    "- For a discrete random variable $X$, $E[1\\{X = k\\}] = P\\left(X = k\\right)$.\n"
   ]
  },
  {
   "cell_type": "markdown",
   "metadata": {},
   "source": [
    "# Variance\n",
    "\n",
    "$Var[X] \\triangleq E[\\left(X - E\\left(X\\right)\\right)^2]$\n",
    "\n",
    "\n",
    "$\\begin{align*}\n",
    "E[\\left(X - E[X]\\right)^2] &= E[X^2 -2E[X]X + E[X]^2]\\\\\n",
    "&= E[X^2] - 2E[X]E[X] + E[X]^2\\\\\n",
    "&= E[X^2] - E[X]^2\\\\\n",
    "\\end{align*}\n",
    "$\n",
    "\n"
   ]
  },
  {
   "cell_type": "markdown",
   "metadata": {},
   "source": [
    "# Discrete random variables\n",
    "\n",
    "**[lucas笔记]参考：**[Common Probability Distributions: The Data Scientist’s Crib Sheet](https://blog.cloudera.com/blog/2015/12/common-probability-distributions-the-data-scientists-crib-sheet/)\n",
    "\n",
    "- $X \\sim Bernoulli\\left(p\\right)$ ( where $0 \\leq p \\leq 1$): one if a coin with heads probability $p$ comes up heads, zero otherwise.\n",
    "\n",
    "$\\qquad\n",
    "p(x) =\\left\\{\\begin{array}{ll}\n",
    "p&\\text{if $p = 1$}\\\\\n",
    "1-p&\\text{if $p =0 $}\n",
    "\\end{array}\\right.\n",
    "$\n",
    "- $X \\sim Binomial\\left(n,p\\right)$ (where $0 \\leq p \\leq 1$): the number of heads in $n$ independent flips of a coin with heads probability $p$.\n",
    "\n",
    "$\\qquad\n",
    "p(x) = \\Bigg(\\begin{matrix}n\\\\p\\end{matrix}\\Bigg)p^{x}\\left(1-p\\right)^{n-x}\n",
    "$\n",
    "- $X \\sim Geometric\\left(p\\right)$ (where $p > 0$): the number of flips of a coin with heads probability $p$ until the first heads.\n",
    "\n",
    "$\\qquad\n",
    "p(x) = p\\left(1-p\\right)^{x-1}\n",
    "$\n",
    "- $X \\sim Poisson\\left(\\lambda\\right)$ (where $\\lambda > 0$): a probability distribution over the nonnegative integers used for modeling the frequency of rare events.\n",
    "\n",
    "$\\qquad\n",
    "p\\left(x\\right) = e^{-\\lambda}\\dfrac{\\lambda}{x!}\n",
    "$\n"
   ]
  },
  {
   "cell_type": "code",
   "execution_count": 147,
   "metadata": {},
   "outputs": [
    {
     "data": {
      "image/png": "[encoded data removed]",
      "text/plain": [
       "<matplotlib.figure.Figure at 0x2bd5fe104e0>"
      ]
     },
     "metadata": {},
     "output_type": "display_data"
    }
   ],
   "source": [
    "# binomial\n",
    "\n",
    "n, p = 1000, .05\n",
    "s = np.random.binomial(n, p, 1000)\n",
    "plt.hist(s);"
   ]
  },
  {
   "cell_type": "code",
   "execution_count": 148,
   "metadata": {},
   "outputs": [
    {
     "data": {
      "image/png": "[encoded data removed]",
      "text/plain": [
       "<matplotlib.figure.Figure at 0x2bd5fcf1940>"
      ]
     },
     "metadata": {},
     "output_type": "display_data"
    }
   ],
   "source": [
    "# poisson approximating binomial\n",
    "\n",
    "s = np.random.poisson(p*n, 10000)\n",
    "plt.hist(s);"
   ]
  },
  {
   "cell_type": "markdown",
   "metadata": {},
   "source": [
    "# Continuous random variables\n",
    "\n",
    "- $X \\sim Uniform\\left(a,b\\right)$ (where $a < b$): equal probability density to every value between $a$ and $b$ on the real line.\n",
    "\n",
    "$\\qquad\n",
    "f\\left(x\\right) = \\left\\{\\begin{array}{ll}\n",
    "\\frac{1}{a - b} &\\text{if $a \\leq x \\leq b$}\\\\\n",
    "0&\\text{otherwise}\n",
    "\\end{array}\\right.\n",
    "$\n",
    "- $X \\sim Exponential\\left(\\lambda\\right)$ (where $\\lambda > 0$): decaying probability density over the nonnegative reals.\n",
    "\n",
    "$\\qquad\n",
    "f\\left(x\\right)=\\left\\{\\begin{array}{ll}\n",
    "\\lambda e^{-\\lambda x}&\\text{if $x\\ge0$}\\\\\n",
    "0&\\text{otherwise}\n",
    "\\end{array}\\right.\n",
    "$\n",
    "- $X \\sim Normal\\left(\\mu,\\sigma^2\\right)$: also know as the Gaussian distribution\n",
    "\n",
    "$\\qquad\n",
    "f(x) = \\dfrac{1}{\\sqrt{2\\pi}\\sigma}e^{-\\frac{1}{2\\sigma^2}\\left(x - \\mu\\right)^2}\n",
    "$"
   ]
  },
  {
   "cell_type": "markdown",
   "metadata": {},
   "source": [
    "# Joint cumulative distribution function\n",
    "\n",
    "$\n",
    "F_{XY}(x,y) = P(X \\leq x, Y \\leq y)\n",
    "$\n",
    "\n",
    "$\\begin{align*}\n",
    "F_X(x) &= \\lim_{y\\rightarrow \\infty}{F_{XY}(x,y)dy}\\\\\n",
    "F_Y(y) &= \\lim_{x\\rightarrow \\infty}{F_{XY}(x,y)dx}\n",
    "\\end{align*}$\n",
    "\n",
    "# Marginal cumulative distribution functions of $F_{XY}(x,y)$\n",
    "\n",
    "**Properties:**\n",
    "\n",
    "\n",
    "- $0 \\leq F_{XY}(x,y) \\leq 1$.\n",
    "- $\\lim_{x,y\\rightarrow \\infty}F_{XY}(x,y) =1$.\n",
    "- $\\lim_{x,y\\rightarrow -\\infty}F_{XY}(x,y) = 0$.\n",
    "- $F_{X}(x) = \\lim_{y\\rightarrow \\infty}F_{XY}(x,y)$.\n",
    "\n",
    "$\n",
    "p_X(x) = \\sum_{y}{p_{XY}(x,y)}\n",
    "$\n",
    "\n",
    "We refer to $p_{X}(x)$ as the **marginal probability mass function** of $X$."
   ]
  },
  {
   "cell_type": "markdown",
   "metadata": {},
   "source": [
    "# Marginal probability density function (or marginal density)\n",
    "\n",
    "$\n",
    "f_{X}(x) = \\int^{\\infty}_{-\\infty}{f_{XY}(x,y)dy}\n",
    "$\n",
    "\n",
    "\n",
    "# Conditional distributions\n",
    "\n",
    "$\n",
    "p_{Y|X}(y|x) = \\dfrac{p_{XY}(x,y)}{p_X(x)}\n",
    "$\n",
    "\n",
    "assuming that $p_X(x) \\neq 0$.\n",
    "\n",
    "# Independence\n",
    "\n",
    "Two random variables $X$ and $Y$ are **independent** if $F_{XY}(x,y) = F_X(x)F_Y(y)$ for all values of $x$ and $y$.\n"
   ]
  },
  {
   "cell_type": "markdown",
   "metadata": {},
   "source": [
    "# Expectation and covariance\n",
    "\n",
    "$\n",
    "E[g(X,Y)] \\triangleq \\sum_{x\\in V\\,al(X)} \\sum_{y\\in V\\,al(Y)} g(x,y)p_{XY}(x,y).\n",
    "$\n",
    "\n",
    "$\n",
    "E[g(X,Y)] = \\int^{\\infty}_{-\\infty}\\int^{\\infty}_{-\\infty} g(x,y)f_{XY}(x,y)dxdy.\n",
    "$\n",
    "\n",
    "$\n",
    "\\begin{align*}\n",
    "Cov[X,Y] &= E[(X - E[X])(Y - E[Y])]\\\\\n",
    "&= E[XY - XE[Y] - YE[X] + E[X]E[Y]]\\\\\n",
    "&= E[XY] -E[X]E[Y] - E[Y]E[X] + E[X]E[Y]]\\\\\n",
    "&= E[XY] -E[X]E[Y].\n",
    "\\end{align*}\n",
    "$\n",
    "\n",
    "When $Cov[X,Y] = 0$, we say that $X$ and $Y$ are **uncorrelated**. However, this is not the same thing as stating that $X$ and $Y$ are independent! For example, if $X \\sim Uniform(-1,1)$ and $Y = X^2$, then one can show that $X$ and $Y$ are uncorrelated, even though they are not independent."
   ]
  },
  {
   "cell_type": "markdown",
   "metadata": {},
   "source": [
    "**Properties**\n",
    "\n",
    "\n",
    "- **Linearity of expectation** $E[f(X,Y) + g(X,Y)] = E[f(X,Y)] + E[g(X,Y)]$.\n",
    "- $Var[X+Y] = Var[X] + Var[Y] + 2Cov[X,Y]$.\n",
    "- If $X$ and $Y$ are independent, then $Cov[X,Y] = 0$.\n",
    "- If $X$ and $Y$ are independent, then $E[f(X)g(Y)] = E[f(X)]E[g(Y)]$.\n"
   ]
  },
  {
   "cell_type": "markdown",
   "metadata": {},
   "source": [
    "# Chain Rule\n",
    "\n",
    "$\\begin{align*}\n",
    "f(x_1,x_2,\\ldots,x_n) &= f(x_n|x_1,x_2,\\ldots,x_{n-1})f(x_1,x_2,\\ldots,x_{n-1})\\\\\n",
    "&= f(x_n|x_1,x_2,\\ldots,x_{n-1})f(x_{n-1}|x_1,x_2,\\ldots,x_{n-2})f(x_1,x_2,\\ldots,x_{n-2})\\\\\n",
    "&= \\ldots = f(x_1)\\prod\\limits^{n}_{i=2}f(x_i|x_1,\\ldots,x_{i-1}).\n",
    "\\end{align*}$\n",
    "\n"
   ]
  },
  {
   "cell_type": "markdown",
   "metadata": {},
   "source": [
    "# Expectation\n",
    "\n",
    "Consider an arbitrary function from $g:\\mathbb{R}^n \\rightarrow \\mathbb{R}$. The expected value of this function is defined as\n",
    "\n",
    "$\n",
    "E[g(X)] = \\int_{\\mathbb{R}^n} g(x_1,x_2,\\ldots,x_n)f_{X_1,X_2,\\ldots,X_n}(x_1,x_2,\\ldots,x_n)dx_1dx_2\\ldots dx_n,\n",
    "$\n",
    "\n",
    "where $\\int_{\\mathbb{R}^n}$ is $n$ consecutive integrations from $-\\infty$ to $\\infty$. If $g$ is a function from $\\mathbb{R}^n$ to $\\mathbb{R}^m$, then the expected value of $g$ is the element-wise expected values of the output vector, i.e., if $g$ is \n",
    "\n",
    "$\n",
    "g(x) = \\begin{bmatrix} g_1(x)\\\\g_2(x)\\\\ \\vdots \\\\ g_m(x) \\end{bmatrix}\n",
    "$\n",
    "\n",
    "Then,\n",
    "\n",
    "$\n",
    "E[g(X)] = \\begin{bmatrix} E[g_1(X)]\\\\ E[g_2(X)]\\\\ \\vdots \\\\ E[g_m(X)] \\end{bmatrix}\n",
    "$"
   ]
  },
  {
   "cell_type": "markdown",
   "metadata": {},
   "source": [
    "# Covariance matrix: \n",
    "\n",
    "For a given random vector $X: \\Omega \\rightarrow \\mathbb{R}^n$, its covariance matrix $\\Sigma$ is the $n\\times n$ square matrix whose entries are given by $\\Sigma_{ij} = Cov[X_i, X_j]$.\n",
    "\n",
    "\n",
    "From the definition of covariance, we have\n",
    "\n",
    "$\n",
    "\\begin{align*}\n",
    "\\Sigma &= \\begin{bmatrix} Cov[X_1,X_1] & \\cdots & Cov[X_1,X_n]\\\\\n",
    "\\vdots & \\ddots & \\vdots\\\\\n",
    "Cov[X_n,X_1] & \\cdots & Cov[X_n,X_n] \\end{bmatrix}\\\\\n",
    "&= \\begin{bmatrix} e[X^{2}_{1}] - E[X_1]E[X_1] & \\cdots & E[X_1X_n] - E[X_1]E[X_n]\\\\\n",
    "\\vdots & \\ddots & \\vdots \\\\\n",
    "e[X_nX_1] - E[X_n]E[X_1] & \\cdots & E[X^{2}_{n}] - E[X_n]E[X_n] \\end{bmatrix}\\\\\n",
    "&= \\begin{bmatrix} E[X^{2}_{1}] & \\cdots & E[X_1X_n]\\\\\n",
    "\\vdots & \\ddots & \\vdots \\\\\n",
    "E[X_nX_1] & \\cdots & E[X^{2}_{n}] \\end{bmatrix} - \\begin{bmatrix} E[X_1]E[X_1] & \\cdots & E[X_1]E[X_n]\\\\\n",
    "\\vdots & \\ddots & \\vdots \\\\\n",
    "E[X_n]E[X_1] & \\cdots & E[X_n]E[X_n] \\end{bmatrix}\\\\\n",
    "&= E[XX^T] - E[X]E[X]^T = \\ldots = E[(X - E[X])(X - E[X])^T].\n",
    "\\end{align*}\n",
    "$\n",
    "\n",
    "where the matrix expectation is defined in the obvious way.\n",
    "\n",
    "The covariance matrix has a number of useful properties:\n",
    "\n",
    "\n",
    "- $\\Sigma \\succeq 0$; that is, $\\Sigma$ is positive semidefinite.\n",
    "- $\\Sigma = \\Sigma^T$; that is, $\\Sigma$ is symmetric.\n"
   ]
  },
  {
   "cell_type": "markdown",
   "metadata": {},
   "source": [
    "# The multivariate Gaussian distribution\n",
    "\n",
    "A random vector $X \\in \\mathbb{R}^n$ is said to have a multivariate normal (or Gaussian) distribution with mean $\\mu \\in \\mathbb{R}^n$ and covariance matrix $\\Sigma \\in \\mathbb{S}^{n}_{++}$ (where $\\mathbb{S}^{n}_{++}$ refers to the space of symmetric positive definite $n\\times n$ matrices)\n",
    "\n",
    "$\n",
    "f_{X_1,X_2,\\ldots,X_n}(x_1,x_2,\\ldots,x_n;\\mu, \\Sigma) = \\dfrac{1}{(2\\pi)^{n/2}|\\Sigma|^{1/2}}\\exp \\Bigg(-\\dfrac{1}{2}(x - \\mu)^T\\Sigma^{-1}(x - \\mu)\\Bigg).\n",
    "$\n",
    "\n"
   ]
  },
  {
   "cell_type": "markdown",
   "metadata": {
    "collapsed": true
   },
   "source": [
    "# Bayes's rule\n",
    "\n",
    "$\n",
    "P_{Y|X}(y|x) = \\dfrac{P_{XY}(x,y)}{P_{X}(x)} = \\dfrac{P_{X|Y}(x|y)P_Y(y)}{\\sum_{y' \\in V\\,al(Y)}P_{X|Y}(x|y')P_Y(y')}.\n",
    "$\n",
    "\n",
    "\n",
    "**Frequentism**: a coin is flipped 1000 times and is always heads. The probability of heads for flip 1001: 1/2\n",
    "\n",
    "\n",
    "**Bayesianism**: a coin is flipped 1000 times and is always tails. The probability of heads for flip 1001: 0.99999"
   ]
  },
  {
   "cell_type": "code",
   "execution_count": 149,
   "metadata": {},
   "outputs": [
    {
     "data": {
      "image/png": "[encoded data removed]",
      "text/plain": [
       "<matplotlib.figure.Figure at 0x2bd5fcb1940>"
      ]
     },
     "metadata": {},
     "output_type": "display_data"
    }
   ],
   "source": [
    "df = pd.read_csv(\"./data/trian-har.csv\")\n",
    "\n",
    "df_subject = df[df.subject == 1]\n",
    "\n",
    "data = np.array(df_subject.iloc[:,:-2])\n",
    "\n",
    "U, s, V = np.linalg.svd(data)\n",
    "plt.plot(s);"
   ]
  },
  {
   "cell_type": "code",
   "execution_count": 151,
   "metadata": {},
   "outputs": [
    {
     "data": {
      "text/plain": [
       "<matplotlib.axes._subplots.AxesSubplot at 0x2bd5bcd7828>"
      ]
     },
     "execution_count": 151,
     "metadata": {},
     "output_type": "execute_result"
    },
    {
     "data": {
      "image/png": "[encoded data removed]",
      "text/plain": [
       "<matplotlib.figure.Figure at 0x2bd5bd59710>"
      ]
     },
     "metadata": {},
     "output_type": "display_data"
    }
   ],
   "source": [
    "df.iloc[:,0].hist(bins = 100)"
   ]
  },
  {
   "cell_type": "code",
   "execution_count": 152,
   "metadata": {
    "collapsed": true
   },
   "outputs": [],
   "source": [
    "data_projected = np.dot(V, data.T).T"
   ]
  },
  {
   "cell_type": "code",
   "execution_count": 153,
   "metadata": {
    "collapsed": true
   },
   "outputs": [],
   "source": [
    "x1 = data_projected[:,0]\n",
    "x2 = data_projected[:,1]"
   ]
  },
  {
   "cell_type": "code",
   "execution_count": 154,
   "metadata": {},
   "outputs": [
    {
     "data": {
      "image/png": "[encoded data removed]",
      "text/plain": [
       "<matplotlib.figure.Figure at 0x2bd5fe1eef0>"
      ]
     },
     "metadata": {},
     "output_type": "display_data"
    }
   ],
   "source": [
    "plt.hist(x1, bins=100);"
   ]
  },
  {
   "cell_type": "code",
   "execution_count": 160,
   "metadata": {},
   "outputs": [
    {
     "data": {
      "image/png": "[encoded data removed]",
      "text/plain": [
       "<matplotlib.figure.Figure at 0x2bd5fbf7898>"
      ]
     },
     "metadata": {},
     "output_type": "display_data"
    }
   ],
   "source": [
    "plt.hist(x2, bins=100);"
   ]
  },
  {
   "cell_type": "code",
   "execution_count": 161,
   "metadata": {
    "collapsed": true
   },
   "outputs": [],
   "source": [
    "labels = df_subject.Activity"
   ]
  },
  {
   "cell_type": "code",
   "execution_count": 162,
   "metadata": {
    "collapsed": true
   },
   "outputs": [],
   "source": [
    "y = np.zeros(labels.shape[0])"
   ]
  },
  {
   "cell_type": "code",
   "execution_count": 163,
   "metadata": {
    "collapsed": true
   },
   "outputs": [],
   "source": [
    "activity_codes = {\n",
    "    \"STANDING\": \"red\", \"SITTING\": \"green\", \"LAYING\": \"blue\", \"WALKING\": \"yellow\",\n",
    "    'WALKING_DOWNSTAIRS': \"cyan\", 'WALKING_UPSTAIRS': \"orange\" }\n",
    "\n"
   ]
  },
  {
   "cell_type": "code",
   "execution_count": 164,
   "metadata": {},
   "outputs": [],
   "source": [
    "y[labels == \"WALKING\"] = 1\n",
    "y[labels == \"WALKING_DOWNSTAIRS\"] = 1\n",
    "y[labels == \"WALKING_UPSTAIRS\"] = 1"
   ]
  },
  {
   "cell_type": "code",
   "execution_count": 165,
   "metadata": {},
   "outputs": [
    {
     "data": {
      "text/plain": [
       "[<matplotlib.lines.Line2D at 0x2bd60055d30>]"
      ]
     },
     "execution_count": 165,
     "metadata": {},
     "output_type": "execute_result"
    },
    {
     "data": {
      "image/png": "[encoded data removed]",
      "text/plain": [
       "<matplotlib.figure.Figure at 0x2bd5fbf74e0>"
      ]
     },
     "metadata": {},
     "output_type": "display_data"
    }
   ],
   "source": [
    "plt.plot(x1, y, \".\")"
   ]
  },
  {
   "cell_type": "code",
   "execution_count": 166,
   "metadata": {},
   "outputs": [
    {
     "data": {
      "text/plain": [
       "(347,)"
      ]
     },
     "execution_count": 166,
     "metadata": {},
     "output_type": "execute_result"
    }
   ],
   "source": [
    "y.shape"
   ]
  },
  {
   "cell_type": "code",
   "execution_count": 167,
   "metadata": {},
   "outputs": [
    {
     "data": {
      "text/plain": [
       "(347,)"
      ]
     },
     "execution_count": 167,
     "metadata": {},
     "output_type": "execute_result"
    }
   ],
   "source": [
    "x1.shape"
   ]
  },
  {
   "cell_type": "code",
   "execution_count": null,
   "metadata": {
    "collapsed": true
   },
   "outputs": [],
   "source": []
  }
 ],
 "metadata": {
  "kernelspec": {
   "display_name": "Python 3",
   "language": "python",
   "name": "python3"
  },
  "language_info": {
   "codemirror_mode": {
    "name": "ipython",
    "version": 3
   },
   "file_extension": ".py",
   "mimetype": "text/x-python",
   "name": "python",
   "nbconvert_exporter": "python",
   "pygments_lexer": "ipython3",
   "version": "3.6.1"
  }
 },
 "nbformat": 4,
 "nbformat_minor": 1
}
